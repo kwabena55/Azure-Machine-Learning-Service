{
 "cells": [
  {
   "cell_type": "markdown",
   "metadata": {},
   "source": [
    "# So if you install azureml in your base environement it wont work\n",
    "Azure would like you to install it in your new conda venvironemnt thst we will create\n",
    "* conda update anaconda\n",
    "* conda create --name <put environment name here> python =, put python version here>\n",
    "* conda activate <new environemnt name>\n",
    "* ML Documentation : https://docs.microsoft.com/en-us/azure/machine-learning/how-to-manage-workspace?tabs=python"
   ]
  },
  {
   "cell_type": "code",
   "execution_count": 9,
   "metadata": {},
   "outputs": [
    {
     "name": "stdout",
     "output_type": "stream",
     "text": [
      "Requirement already satisfied: azureml-opendatasets in c:\\users\\user\\anaconda3\\lib\\site-packages (1.32.0)\n",
      "Collecting pandas<=1.0.0,>=0.21.0\n",
      "  Using cached pandas-1.0.0-cp38-cp38-win_amd64.whl (9.1 MB)\n",
      "Requirement already satisfied: pyarrow>=0.16.0 in c:\\users\\user\\anaconda3\\lib\\site-packages (from azureml-opendatasets) (3.0.0)\n",
      "Requirement already satisfied: pyspark in c:\\users\\user\\anaconda3\\lib\\site-packages (from azureml-opendatasets) (3.1.1)\n",
      "Requirement already satisfied: azureml-telemetry~=1.32.0 in c:\\users\\user\\anaconda3\\lib\\site-packages (from azureml-opendatasets) (1.32.0)\n",
      "Requirement already satisfied: azureml-dataset-runtime[fuse,pandas]~=1.32.0 in c:\\users\\user\\anaconda3\\lib\\site-packages (from azureml-opendatasets) (1.32.0)\n"
     ]
    },
    {
     "name": "stderr",
     "output_type": "stream",
     "text": [
      "ERROR: pip's dependency resolver does not currently take into account all the packages that are installed. This behaviour is the source of the following dependency conflicts.\n",
      "phik 0.11.2 requires scipy>=1.5.2, but you have scipy 1.4.1 which is incompatible.\n",
      "pandas-visual-analysis 0.0.4 requires numpy>=1.19.1, but you have numpy 1.19.0 which is incompatible.\n",
      "pandas-visual-analysis 0.0.4 requires pandas>=1.1.0, but you have pandas 1.0.0 which is incompatible.\n",
      "pandas-read-xml 0.3.1 requires urllib3>=1.26.3, but you have urllib3 1.25.11 which is incompatible.\n",
      "pandas-profiling 2.11.0 requires pandas!=1.0.0,!=1.0.1,!=1.0.2,!=1.1.0,>=0.25.3, but you have pandas 1.0.0 which is incompatible.\n",
      "networkx 2.6.1 requires pandas>=1.1, but you have pandas 1.0.0 which is incompatible.\n",
      "networkx 2.6.1 requires scipy!=1.6.1,>=1.5, but you have scipy 1.4.1 which is incompatible.\n",
      "mitosheet3 0.3.70 requires pandas>=1.1.0, but you have pandas 1.0.0 which is incompatible.\n"
     ]
    },
    {
     "name": "stdout",
     "output_type": "stream",
     "text": [
      "Collecting scipy<=1.4.1,>=1.0.0\n",
      "  Using cached scipy-1.4.1-cp38-cp38-win_amd64.whl (31.0 MB)\n",
      "Collecting numpy<=1.19.0,>=1.16.0\n",
      "  Using cached numpy-1.19.0-cp38-cp38-win_amd64.whl (13.0 MB)\n",
      "Requirement already satisfied: azureml-core~=1.32.0 in c:\\users\\user\\anaconda3\\lib\\site-packages (from azureml-opendatasets) (1.32.0)\n",
      "Requirement already satisfied: pathspec<1.0.0 in c:\\users\\user\\anaconda3\\lib\\site-packages (from azureml-core~=1.32.0->azureml-opendatasets) (0.8.1)\n",
      "Requirement already satisfied: azure-mgmt-resource<15.0.0,>=1.2.1 in c:\\users\\user\\anaconda3\\lib\\site-packages (from azureml-core~=1.32.0->azureml-opendatasets) (13.0.0)\n",
      "Requirement already satisfied: ndg-httpsclient<=0.5.1 in c:\\users\\user\\anaconda3\\lib\\site-packages (from azureml-core~=1.32.0->azureml-opendatasets) (0.5.1)\n",
      "Requirement already satisfied: docker<5.0.0 in c:\\users\\user\\anaconda3\\lib\\site-packages (from azureml-core~=1.32.0->azureml-opendatasets) (4.4.4)\n",
      "Requirement already satisfied: azure-mgmt-containerregistry>=2.0.0 in c:\\users\\user\\anaconda3\\lib\\site-packages (from azureml-core~=1.32.0->azureml-opendatasets) (8.0.0)\n",
      "Requirement already satisfied: jsonpickle<3.0.0 in c:\\users\\user\\anaconda3\\lib\\site-packages (from azureml-core~=1.32.0->azureml-opendatasets) (2.0.0)\n",
      "Requirement already satisfied: adal<=1.2.7,>=1.2.0 in c:\\users\\user\\anaconda3\\lib\\site-packages (from azureml-core~=1.32.0->azureml-opendatasets) (1.2.7)\n",
      "Requirement already satisfied: python-dateutil<3.0.0,>=2.7.3 in c:\\users\\user\\anaconda3\\lib\\site-packages (from azureml-core~=1.32.0->azureml-opendatasets) (2.8.2)\n",
      "Requirement already satisfied: urllib3<=1.26.5,>=1.23 in c:\\users\\user\\anaconda3\\lib\\site-packages (from azureml-core~=1.32.0->azureml-opendatasets) (1.25.11)\n",
      "Requirement already satisfied: PyJWT<3.0.0 in c:\\users\\user\\anaconda3\\lib\\site-packages (from azureml-core~=1.32.0->azureml-opendatasets) (2.1.0)\n",
      "Requirement already satisfied: pyopenssl<21.0.0 in c:\\users\\user\\anaconda3\\lib\\site-packages (from azureml-core~=1.32.0->azureml-opendatasets) (20.0.1)\n",
      "Requirement already satisfied: msrest<1.0.0,>=0.5.1 in c:\\users\\user\\anaconda3\\lib\\site-packages (from azureml-core~=1.32.0->azureml-opendatasets) (0.6.21)\n",
      "Requirement already satisfied: contextlib2<1.0.0 in c:\\users\\user\\anaconda3\\lib\\site-packages (from azureml-core~=1.32.0->azureml-opendatasets) (0.6.0.post1)\n",
      "Requirement already satisfied: requests<3.0.0,>=2.19.1 in c:\\users\\user\\anaconda3\\lib\\site-packages (from azureml-core~=1.32.0->azureml-opendatasets) (2.24.0)\n",
      "Requirement already satisfied: SecretStorage<4.0.0 in c:\\users\\user\\anaconda3\\lib\\site-packages (from azureml-core~=1.32.0->azureml-opendatasets) (3.3.1)\n",
      "Requirement already satisfied: jmespath<1.0.0 in c:\\users\\user\\anaconda3\\lib\\site-packages (from azureml-core~=1.32.0->azureml-opendatasets) (0.10.0)\n",
      "Requirement already satisfied: azure-mgmt-keyvault<10.0.0,>=0.40.0 in c:\\users\\user\\anaconda3\\lib\\site-packages (from azureml-core~=1.32.0->azureml-opendatasets) (9.0.0)\n",
      "Requirement already satisfied: pytz in c:\\users\\user\\anaconda3\\lib\\site-packages (from azureml-core~=1.32.0->azureml-opendatasets) (2021.1)\n",
      "Requirement already satisfied: ruamel.yaml<0.17.5,>=0.15.35 in c:\\users\\user\\anaconda3\\lib\\site-packages (from azureml-core~=1.32.0->azureml-opendatasets) (0.17.4)\n",
      "Requirement already satisfied: azure-mgmt-authorization<1.0.0,>=0.40.0 in c:\\users\\user\\anaconda3\\lib\\site-packages (from azureml-core~=1.32.0->azureml-opendatasets) (0.61.0)\n",
      "Requirement already satisfied: backports.tempfile in c:\\users\\user\\anaconda3\\lib\\site-packages (from azureml-core~=1.32.0->azureml-opendatasets) (1.0)\n",
      "Requirement already satisfied: azure-graphrbac<1.0.0,>=0.40.0 in c:\\users\\user\\anaconda3\\lib\\site-packages (from azureml-core~=1.32.0->azureml-opendatasets) (0.61.1)\n",
      "Requirement already satisfied: msrestazure<=0.6.4,>=0.4.33 in c:\\users\\user\\anaconda3\\lib\\site-packages (from azureml-core~=1.32.0->azureml-opendatasets) (0.6.4)\n",
      "Requirement already satisfied: azure-mgmt-storage<16.0.0,>=1.5.0 in c:\\users\\user\\anaconda3\\lib\\site-packages (from azureml-core~=1.32.0->azureml-opendatasets) (11.2.0)\n",
      "Requirement already satisfied: cryptography!=1.9,!=2.0.*,!=2.1.*,!=2.2.*,<4.0.0 in c:\\users\\user\\anaconda3\\lib\\site-packages (from azureml-core~=1.32.0->azureml-opendatasets) (3.4.7)\n",
      "Requirement already satisfied: azure-common<2.0.0,>=1.1.12 in c:\\users\\user\\anaconda3\\lib\\site-packages (from azureml-core~=1.32.0->azureml-opendatasets) (1.1.27)\n",
      "Requirement already satisfied: azure-mgmt-core<2.0.0,>=1.2.0 in c:\\users\\user\\anaconda3\\lib\\site-packages (from azure-mgmt-containerregistry>=2.0.0->azureml-core~=1.32.0->azureml-opendatasets) (1.3.0)\n",
      "Requirement already satisfied: azure-core<2.0.0,>=1.15.0 in c:\\users\\user\\anaconda3\\lib\\site-packages (from azure-mgmt-core<2.0.0,>=1.2.0->azure-mgmt-containerregistry>=2.0.0->azureml-core~=1.32.0->azureml-opendatasets) (1.16.0)\n",
      "Requirement already satisfied: six>=1.11.0 in c:\\users\\user\\anaconda3\\lib\\site-packages (from azure-core<2.0.0,>=1.15.0->azure-mgmt-core<2.0.0,>=1.2.0->azure-mgmt-containerregistry>=2.0.0->azureml-core~=1.32.0->azureml-opendatasets) (1.16.0)\n",
      "Requirement already satisfied: azureml-dataprep<2.19.0a,>=2.18.0a in c:\\users\\user\\anaconda3\\lib\\site-packages (from azureml-dataset-runtime[fuse,pandas]~=1.32.0->azureml-opendatasets) (2.18.0)\n",
      "Requirement already satisfied: fusepy<4.0.0,>=3.0.1 in c:\\users\\user\\anaconda3\\lib\\site-packages (from azureml-dataset-runtime[fuse,pandas]~=1.32.0->azureml-opendatasets) (3.0.1)\n",
      "Requirement already satisfied: azureml-dataprep-rslex<1.17.0a,>=1.16.0dev0 in c:\\users\\user\\anaconda3\\lib\\site-packages (from azureml-dataprep<2.19.0a,>=2.18.0a->azureml-dataset-runtime[fuse,pandas]~=1.32.0->azureml-opendatasets) (1.16.1)\n",
      "Requirement already satisfied: azure-identity<1.5.0,>=1.2.0 in c:\\users\\user\\anaconda3\\lib\\site-packages (from azureml-dataprep<2.19.0a,>=2.18.0a->azureml-dataset-runtime[fuse,pandas]~=1.32.0->azureml-opendatasets) (1.4.1)\n",
      "Requirement already satisfied: azureml-dataprep-native<37.0.0,>=36.0.0 in c:\\users\\user\\anaconda3\\lib\\site-packages (from azureml-dataprep<2.19.0a,>=2.18.0a->azureml-dataset-runtime[fuse,pandas]~=1.32.0->azureml-opendatasets) (36.0.0)\n",
      "Requirement already satisfied: cloudpickle<2.0.0,>=1.1.0 in c:\\users\\user\\anaconda3\\lib\\site-packages (from azureml-dataprep<2.19.0a,>=2.18.0a->azureml-dataset-runtime[fuse,pandas]~=1.32.0->azureml-opendatasets) (1.6.0)\n",
      "Requirement already satisfied: dotnetcore2<3.0.0,>=2.1.14 in c:\\users\\user\\anaconda3\\lib\\site-packages (from azureml-dataprep<2.19.0a,>=2.18.0a->azureml-dataset-runtime[fuse,pandas]~=1.32.0->azureml-opendatasets) (2.1.21)\n",
      "Requirement already satisfied: msal<2.0.0,>=1.3.0 in c:\\users\\user\\anaconda3\\lib\\site-packages (from azure-identity<1.5.0,>=1.2.0->azureml-dataprep<2.19.0a,>=2.18.0a->azureml-dataset-runtime[fuse,pandas]~=1.32.0->azureml-opendatasets) (1.12.0)\n",
      "Requirement already satisfied: msal-extensions~=0.2.2 in c:\\users\\user\\anaconda3\\lib\\site-packages (from azure-identity<1.5.0,>=1.2.0->azureml-dataprep<2.19.0a,>=2.18.0a->azureml-dataset-runtime[fuse,pandas]~=1.32.0->azureml-opendatasets) (0.2.2)\n",
      "Requirement already satisfied: applicationinsights in c:\\users\\user\\anaconda3\\lib\\site-packages (from azureml-telemetry~=1.32.0->azureml-opendatasets) (0.11.10)\n",
      "Requirement already satisfied: cffi>=1.12 in c:\\users\\user\\anaconda3\\lib\\site-packages (from cryptography!=1.9,!=2.0.*,!=2.1.*,!=2.2.*,<4.0.0->azureml-core~=1.32.0->azureml-opendatasets) (1.14.6)\n",
      "Requirement already satisfied: pycparser in c:\\users\\user\\anaconda3\\lib\\site-packages (from cffi>=1.12->cryptography!=1.9,!=2.0.*,!=2.1.*,!=2.2.*,<4.0.0->azureml-core~=1.32.0->azureml-opendatasets) (2.20)\n",
      "Requirement already satisfied: pywin32==227 in c:\\users\\user\\anaconda3\\lib\\site-packages (from docker<5.0.0->azureml-core~=1.32.0->azureml-opendatasets) (227)\n",
      "Requirement already satisfied: websocket-client>=0.32.0 in c:\\users\\user\\anaconda3\\lib\\site-packages (from docker<5.0.0->azureml-core~=1.32.0->azureml-opendatasets) (1.1.0)\n",
      "Requirement already satisfied: distro>=1.2.0 in c:\\users\\user\\anaconda3\\lib\\site-packages (from dotnetcore2<3.0.0,>=2.1.14->azureml-dataprep<2.19.0a,>=2.18.0a->azureml-dataset-runtime[fuse,pandas]~=1.32.0->azureml-opendatasets) (1.5.0)\n",
      "Requirement already satisfied: portalocker~=1.6 in c:\\users\\user\\anaconda3\\lib\\site-packages (from msal-extensions~=0.2.2->azure-identity<1.5.0,>=1.2.0->azureml-dataprep<2.19.0a,>=2.18.0a->azureml-dataset-runtime[fuse,pandas]~=1.32.0->azureml-opendatasets) (1.7.1)\n",
      "Requirement already satisfied: certifi>=2017.4.17 in c:\\users\\user\\anaconda3\\lib\\site-packages (from msrest<1.0.0,>=0.5.1->azureml-core~=1.32.0->azureml-opendatasets) (2021.5.30)\n",
      "Requirement already satisfied: isodate>=0.6.0 in c:\\users\\user\\anaconda3\\lib\\site-packages (from msrest<1.0.0,>=0.5.1->azureml-core~=1.32.0->azureml-opendatasets) (0.6.0)\n",
      "Requirement already satisfied: requests-oauthlib>=0.5.0 in c:\\users\\user\\anaconda3\\lib\\site-packages (from msrest<1.0.0,>=0.5.1->azureml-core~=1.32.0->azureml-opendatasets) (1.3.0)\n",
      "Requirement already satisfied: pyasn1>=0.1.1 in c:\\users\\user\\anaconda3\\lib\\site-packages (from ndg-httpsclient<=0.5.1->azureml-core~=1.32.0->azureml-opendatasets) (0.4.8)\n",
      "Requirement already satisfied: idna<3,>=2.5 in c:\\users\\user\\anaconda3\\lib\\site-packages (from requests<3.0.0,>=2.19.1->azureml-core~=1.32.0->azureml-opendatasets) (2.10)\n",
      "Requirement already satisfied: chardet<4,>=3.0.2 in c:\\users\\user\\anaconda3\\lib\\site-packages (from requests<3.0.0,>=2.19.1->azureml-core~=1.32.0->azureml-opendatasets) (3.0.4)\n",
      "Requirement already satisfied: oauthlib>=3.0.0 in c:\\users\\user\\anaconda3\\lib\\site-packages (from requests-oauthlib>=0.5.0->msrest<1.0.0,>=0.5.1->azureml-core~=1.32.0->azureml-opendatasets) (3.1.1)\n",
      "Requirement already satisfied: ruamel.yaml.clib>=0.1.2 in c:\\users\\user\\anaconda3\\lib\\site-packages (from ruamel.yaml<0.17.5,>=0.15.35->azureml-core~=1.32.0->azureml-opendatasets) (0.2.6)\n",
      "Requirement already satisfied: jeepney>=0.6 in c:\\users\\user\\anaconda3\\lib\\site-packages (from SecretStorage<4.0.0->azureml-core~=1.32.0->azureml-opendatasets) (0.7.0)\n",
      "Requirement already satisfied: backports.weakref in c:\\users\\user\\anaconda3\\lib\\site-packages (from backports.tempfile->azureml-core~=1.32.0->azureml-opendatasets) (1.0.post1)\n",
      "Requirement already satisfied: py4j==0.10.9 in c:\\users\\user\\anaconda3\\lib\\site-packages (from pyspark->azureml-opendatasets) (0.10.9)\n",
      "Installing collected packages: numpy, pandas, scipy\n",
      "  Attempting uninstall: numpy\n",
      "    Found existing installation: numpy 1.20.3\n",
      "    Uninstalling numpy-1.20.3:\n",
      "      Successfully uninstalled numpy-1.20.3\n",
      "  Attempting uninstall: pandas\n",
      "    Found existing installation: pandas 1.2.5\n",
      "    Uninstalling pandas-1.2.5:\n",
      "      Successfully uninstalled pandas-1.2.5\n",
      "  Attempting uninstall: scipy\n",
      "    Found existing installation: scipy 1.6.2\n",
      "    Uninstalling scipy-1.6.2:\n",
      "      Successfully uninstalled scipy-1.6.2\n",
      "Successfully installed numpy-1.19.0 pandas-1.0.0 scipy-1.4.1\n"
     ]
    }
   ],
   "source": [
    "!pip install azureml-opendatasets"
   ]
  },
  {
   "cell_type": "code",
   "execution_count": 7,
   "metadata": {},
   "outputs": [
    {
     "name": "stdout",
     "output_type": "stream",
     "text": [
      "Requirement already satisfied: azureml-sdk[notebooks] in c:\\users\\user\\anaconda3\\lib\\site-packages (1.32.0)\n",
      "Requirement already satisfied: azureml-train~=1.32.0 in c:\\users\\user\\anaconda3\\lib\\site-packages (from azureml-sdk[notebooks]) (1.32.0)\n",
      "Requirement already satisfied: azureml-train-automl-client~=1.32.0 in c:\\users\\user\\anaconda3\\lib\\site-packages (from azureml-sdk[notebooks]) (1.32.0)\n",
      "Requirement already satisfied: azureml-core~=1.32.0 in c:\\users\\user\\anaconda3\\lib\\site-packages (from azureml-sdk[notebooks]) (1.32.0)\n",
      "Requirement already satisfied: azureml-dataset-runtime[fuse]~=1.32.0 in c:\\users\\user\\anaconda3\\lib\\site-packages (from azureml-sdk[notebooks]) (1.32.0)\n",
      "Requirement already satisfied: azureml-pipeline~=1.32.0 in c:\\users\\user\\anaconda3\\lib\\site-packages (from azureml-sdk[notebooks]) (1.32.0)\n",
      "Requirement already satisfied: azureml-contrib-notebook~=1.32.0 in c:\\users\\user\\anaconda3\\lib\\site-packages (from azureml-sdk[notebooks]) (1.32.0)\n",
      "Requirement already satisfied: azureml-widgets~=1.32.0 in c:\\users\\user\\anaconda3\\lib\\site-packages (from azureml-sdk[notebooks]) (1.32.0)\n",
      "Requirement already satisfied: nbconvert<6 in c:\\users\\user\\anaconda3\\lib\\site-packages (from azureml-contrib-notebook~=1.32.0->azureml-sdk[notebooks]) (5.6.1)\n",
      "Requirement already satisfied: azureml-pipeline-core~=1.32.0 in c:\\users\\user\\anaconda3\\lib\\site-packages (from azureml-contrib-notebook~=1.32.0->azureml-sdk[notebooks]) (1.32.0)\n",
      "Requirement already satisfied: ipykernel in c:\\users\\user\\anaconda3\\lib\\site-packages (from azureml-contrib-notebook~=1.32.0->azureml-sdk[notebooks]) (5.3.4)\n",
      "Requirement already satisfied: ipython in c:\\users\\user\\anaconda3\\lib\\site-packages (from azureml-contrib-notebook~=1.32.0->azureml-sdk[notebooks]) (7.22.0)\n",
      "Requirement already satisfied: papermill<2 in c:\\users\\user\\anaconda3\\lib\\site-packages (from azureml-contrib-notebook~=1.32.0->azureml-sdk[notebooks]) (1.2.1)\n",
      "Requirement already satisfied: pytz in c:\\users\\user\\anaconda3\\lib\\site-packages (from azureml-core~=1.32.0->azureml-sdk[notebooks]) (2021.1)\n",
      "Requirement already satisfied: backports.tempfile in c:\\users\\user\\anaconda3\\lib\\site-packages (from azureml-core~=1.32.0->azureml-sdk[notebooks]) (1.0)\n",
      "Requirement already satisfied: azure-common<2.0.0,>=1.1.12 in c:\\users\\user\\anaconda3\\lib\\site-packages (from azureml-core~=1.32.0->azureml-sdk[notebooks]) (1.1.27)\n",
      "Requirement already satisfied: pathspec<1.0.0 in c:\\users\\user\\anaconda3\\lib\\site-packages (from azureml-core~=1.32.0->azureml-sdk[notebooks]) (0.8.1)\n",
      "Requirement already satisfied: cryptography!=1.9,!=2.0.*,!=2.1.*,!=2.2.*,<4.0.0 in c:\\users\\user\\anaconda3\\lib\\site-packages (from azureml-core~=1.32.0->azureml-sdk[notebooks]) (3.4.7)\n",
      "Requirement already satisfied: azure-mgmt-resource<15.0.0,>=1.2.1 in c:\\users\\user\\anaconda3\\lib\\site-packages (from azureml-core~=1.32.0->azureml-sdk[notebooks]) (13.0.0)\n",
      "Requirement already satisfied: docker<5.0.0 in c:\\users\\user\\anaconda3\\lib\\site-packages (from azureml-core~=1.32.0->azureml-sdk[notebooks]) (4.4.4)\n",
      "Collecting ruamel.yaml<0.17.5,>=0.15.35\n",
      "  Downloading ruamel.yaml-0.17.4-py3-none-any.whl (101 kB)\n",
      "Requirement already satisfied: pyopenssl<21.0.0 in c:\\users\\user\\anaconda3\\lib\\site-packages (from azureml-core~=1.32.0->azureml-sdk[notebooks]) (20.0.1)\n",
      "Requirement already satisfied: adal<=1.2.7,>=1.2.0 in c:\\users\\user\\anaconda3\\lib\\site-packages (from azureml-core~=1.32.0->azureml-sdk[notebooks]) (1.2.7)\n",
      "Requirement already satisfied: PyJWT<3.0.0 in c:\\users\\user\\anaconda3\\lib\\site-packages (from azureml-core~=1.32.0->azureml-sdk[notebooks]) (2.1.0)\n",
      "Requirement already satisfied: msrest<1.0.0,>=0.5.1 in c:\\users\\user\\anaconda3\\lib\\site-packages (from azureml-core~=1.32.0->azureml-sdk[notebooks]) (0.6.21)\n",
      "Requirement already satisfied: azure-mgmt-containerregistry>=2.0.0 in c:\\users\\user\\anaconda3\\lib\\site-packages (from azureml-core~=1.32.0->azureml-sdk[notebooks]) (8.0.0)\n",
      "Requirement already satisfied: azure-mgmt-keyvault<10.0.0,>=0.40.0 in c:\\users\\user\\anaconda3\\lib\\site-packages (from azureml-core~=1.32.0->azureml-sdk[notebooks]) (9.0.0)\n",
      "Requirement already satisfied: python-dateutil<3.0.0,>=2.7.3 in c:\\users\\user\\anaconda3\\lib\\site-packages (from azureml-core~=1.32.0->azureml-sdk[notebooks]) (2.8.2)\n",
      "Requirement already satisfied: azure-mgmt-storage<16.0.0,>=1.5.0 in c:\\users\\user\\anaconda3\\lib\\site-packages (from azureml-core~=1.32.0->azureml-sdk[notebooks]) (11.2.0)\n",
      "Requirement already satisfied: azure-mgmt-authorization<1.0.0,>=0.40.0 in c:\\users\\user\\anaconda3\\lib\\site-packages (from azureml-core~=1.32.0->azureml-sdk[notebooks]) (0.61.0)\n",
      "Requirement already satisfied: requests<3.0.0,>=2.19.1 in c:\\users\\user\\anaconda3\\lib\\site-packages (from azureml-core~=1.32.0->azureml-sdk[notebooks]) (2.24.0)\n",
      "Requirement already satisfied: msrestazure<=0.6.4,>=0.4.33 in c:\\users\\user\\anaconda3\\lib\\site-packages (from azureml-core~=1.32.0->azureml-sdk[notebooks]) (0.6.4)\n",
      "Requirement already satisfied: SecretStorage<4.0.0 in c:\\users\\user\\anaconda3\\lib\\site-packages (from azureml-core~=1.32.0->azureml-sdk[notebooks]) (3.3.1)\n",
      "Requirement already satisfied: jsonpickle<3.0.0 in c:\\users\\user\\anaconda3\\lib\\site-packages (from azureml-core~=1.32.0->azureml-sdk[notebooks]) (2.0.0)\n",
      "Requirement already satisfied: azure-graphrbac<1.0.0,>=0.40.0 in c:\\users\\user\\anaconda3\\lib\\site-packages (from azureml-core~=1.32.0->azureml-sdk[notebooks]) (0.61.1)\n",
      "Requirement already satisfied: ndg-httpsclient<=0.5.1 in c:\\users\\user\\anaconda3\\lib\\site-packages (from azureml-core~=1.32.0->azureml-sdk[notebooks]) (0.5.1)\n",
      "Requirement already satisfied: contextlib2<1.0.0 in c:\\users\\user\\anaconda3\\lib\\site-packages (from azureml-core~=1.32.0->azureml-sdk[notebooks]) (0.6.0.post1)\n",
      "Requirement already satisfied: jmespath<1.0.0 in c:\\users\\user\\anaconda3\\lib\\site-packages (from azureml-core~=1.32.0->azureml-sdk[notebooks]) (0.10.0)\n",
      "Requirement already satisfied: urllib3<=1.26.5,>=1.23 in c:\\users\\user\\anaconda3\\lib\\site-packages (from azureml-core~=1.32.0->azureml-sdk[notebooks]) (1.25.11)\n",
      "Requirement already satisfied: azure-mgmt-core<2.0.0,>=1.2.0 in c:\\users\\user\\anaconda3\\lib\\site-packages (from azure-mgmt-containerregistry>=2.0.0->azureml-core~=1.32.0->azureml-sdk[notebooks]) (1.3.0)\n",
      "Requirement already satisfied: azure-core<2.0.0,>=1.15.0 in c:\\users\\user\\anaconda3\\lib\\site-packages (from azure-mgmt-core<2.0.0,>=1.2.0->azure-mgmt-containerregistry>=2.0.0->azureml-core~=1.32.0->azureml-sdk[notebooks]) (1.16.0)\n",
      "Requirement already satisfied: six>=1.11.0 in c:\\users\\user\\anaconda3\\lib\\site-packages (from azure-core<2.0.0,>=1.15.0->azure-mgmt-core<2.0.0,>=1.2.0->azure-mgmt-containerregistry>=2.0.0->azureml-core~=1.32.0->azureml-sdk[notebooks]) (1.16.0)\n",
      "Requirement already satisfied: numpy!=1.19.4 in c:\\users\\user\\anaconda3\\lib\\site-packages (from azureml-dataset-runtime[fuse]~=1.32.0->azureml-sdk[notebooks]) (1.20.3)\n",
      "Requirement already satisfied: pyarrow<4.0.0,>=0.17.0 in c:\\users\\user\\anaconda3\\lib\\site-packages (from azureml-dataset-runtime[fuse]~=1.32.0->azureml-sdk[notebooks]) (3.0.0)\n",
      "Requirement already satisfied: azureml-dataprep<2.19.0a,>=2.18.0a in c:\\users\\user\\anaconda3\\lib\\site-packages (from azureml-dataset-runtime[fuse]~=1.32.0->azureml-sdk[notebooks]) (2.18.0)\n",
      "Requirement already satisfied: fusepy<4.0.0,>=3.0.1 in c:\\users\\user\\anaconda3\\lib\\site-packages (from azureml-dataset-runtime[fuse]~=1.32.0->azureml-sdk[notebooks]) (3.0.1)\n",
      "Requirement already satisfied: azure-identity<1.5.0,>=1.2.0 in c:\\users\\user\\anaconda3\\lib\\site-packages (from azureml-dataprep<2.19.0a,>=2.18.0a->azureml-dataset-runtime[fuse]~=1.32.0->azureml-sdk[notebooks]) (1.4.1)\n",
      "Requirement already satisfied: cloudpickle<2.0.0,>=1.1.0 in c:\\users\\user\\anaconda3\\lib\\site-packages (from azureml-dataprep<2.19.0a,>=2.18.0a->azureml-dataset-runtime[fuse]~=1.32.0->azureml-sdk[notebooks]) (1.6.0)\n",
      "Requirement already satisfied: azureml-dataprep-rslex<1.17.0a,>=1.16.0dev0 in c:\\users\\user\\anaconda3\\lib\\site-packages (from azureml-dataprep<2.19.0a,>=2.18.0a->azureml-dataset-runtime[fuse]~=1.32.0->azureml-sdk[notebooks]) (1.16.1)\n",
      "Requirement already satisfied: dotnetcore2<3.0.0,>=2.1.14 in c:\\users\\user\\anaconda3\\lib\\site-packages (from azureml-dataprep<2.19.0a,>=2.18.0a->azureml-dataset-runtime[fuse]~=1.32.0->azureml-sdk[notebooks]) (2.1.21)\n",
      "Requirement already satisfied: azureml-dataprep-native<37.0.0,>=36.0.0 in c:\\users\\user\\anaconda3\\lib\\site-packages (from azureml-dataprep<2.19.0a,>=2.18.0a->azureml-dataset-runtime[fuse]~=1.32.0->azureml-sdk[notebooks]) (36.0.0)\n",
      "Requirement already satisfied: msal-extensions~=0.2.2 in c:\\users\\user\\anaconda3\\lib\\site-packages (from azure-identity<1.5.0,>=1.2.0->azureml-dataprep<2.19.0a,>=2.18.0a->azureml-dataset-runtime[fuse]~=1.32.0->azureml-sdk[notebooks]) (0.2.2)\n",
      "Requirement already satisfied: msal<2.0.0,>=1.3.0 in c:\\users\\user\\anaconda3\\lib\\site-packages (from azure-identity<1.5.0,>=1.2.0->azureml-dataprep<2.19.0a,>=2.18.0a->azureml-dataset-runtime[fuse]~=1.32.0->azureml-sdk[notebooks]) (1.12.0)\n",
      "Requirement already satisfied: azureml-pipeline-steps~=1.32.0 in c:\\users\\user\\anaconda3\\lib\\site-packages (from azureml-pipeline~=1.32.0->azureml-sdk[notebooks]) (1.32.0)\n",
      "Requirement already satisfied: azureml-train-core~=1.32.0 in c:\\users\\user\\anaconda3\\lib\\site-packages (from azureml-pipeline-steps~=1.32.0->azureml-pipeline~=1.32.0->azureml-sdk[notebooks]) (1.32.0)\n",
      "Requirement already satisfied: azureml-automl-core~=1.32.0 in c:\\users\\user\\anaconda3\\lib\\site-packages (from azureml-train-automl-client~=1.32.0->azureml-sdk[notebooks]) (1.32.0)\n",
      "Requirement already satisfied: azureml-telemetry~=1.32.0 in c:\\users\\user\\anaconda3\\lib\\site-packages (from azureml-train-automl-client~=1.32.0->azureml-sdk[notebooks]) (1.32.0)\n",
      "Requirement already satisfied: applicationinsights in c:\\users\\user\\anaconda3\\lib\\site-packages (from azureml-telemetry~=1.32.0->azureml-train-automl-client~=1.32.0->azureml-sdk[notebooks]) (0.11.10)\n",
      "Requirement already satisfied: azureml-train-restclients-hyperdrive~=1.32.0 in c:\\users\\user\\anaconda3\\lib\\site-packages (from azureml-train-core~=1.32.0->azureml-pipeline-steps~=1.32.0->azureml-pipeline~=1.32.0->azureml-sdk[notebooks]) (1.32.0)\n",
      "Requirement already satisfied: ipywidgets>=7.0.0 in c:\\users\\user\\anaconda3\\lib\\site-packages (from azureml-widgets~=1.32.0->azureml-sdk[notebooks]) (7.5.1)\n",
      "Requirement already satisfied: azure-storage-blob>=12.6.0 in c:\\users\\user\\anaconda3\\lib\\site-packages (from azureml-widgets~=1.32.0->azureml-sdk[notebooks]) (12.8.1)\n",
      "Requirement already satisfied: cffi>=1.12 in c:\\users\\user\\anaconda3\\lib\\site-packages (from cryptography!=1.9,!=2.0.*,!=2.1.*,!=2.2.*,<4.0.0->azureml-core~=1.32.0->azureml-sdk[notebooks]) (1.14.6)\n",
      "Requirement already satisfied: pycparser in c:\\users\\user\\anaconda3\\lib\\site-packages (from cffi>=1.12->cryptography!=1.9,!=2.0.*,!=2.1.*,!=2.2.*,<4.0.0->azureml-core~=1.32.0->azureml-sdk[notebooks]) (2.20)\n",
      "Requirement already satisfied: pywin32==227 in c:\\users\\user\\anaconda3\\lib\\site-packages (from docker<5.0.0->azureml-core~=1.32.0->azureml-sdk[notebooks]) (227)\n",
      "Requirement already satisfied: websocket-client>=0.32.0 in c:\\users\\user\\anaconda3\\lib\\site-packages (from docker<5.0.0->azureml-core~=1.32.0->azureml-sdk[notebooks]) (1.1.0)\n",
      "Requirement already satisfied: distro>=1.2.0 in c:\\users\\user\\anaconda3\\lib\\site-packages (from dotnetcore2<3.0.0,>=2.1.14->azureml-dataprep<2.19.0a,>=2.18.0a->azureml-dataset-runtime[fuse]~=1.32.0->azureml-sdk[notebooks]) (1.5.0)\n",
      "Requirement already satisfied: widgetsnbextension~=3.5.0 in c:\\users\\user\\anaconda3\\lib\\site-packages (from ipywidgets>=7.0.0->azureml-widgets~=1.32.0->azureml-sdk[notebooks]) (3.5.1)\n",
      "Requirement already satisfied: traitlets>=4.3.1 in c:\\users\\user\\anaconda3\\lib\\site-packages (from ipywidgets>=7.0.0->azureml-widgets~=1.32.0->azureml-sdk[notebooks]) (5.0.5)\n",
      "Requirement already satisfied: nbformat>=4.2.0 in c:\\users\\user\\anaconda3\\lib\\site-packages (from ipywidgets>=7.0.0->azureml-widgets~=1.32.0->azureml-sdk[notebooks]) (5.1.3)\n",
      "Requirement already satisfied: tornado>=4.2 in c:\\users\\user\\anaconda3\\lib\\site-packages (from ipykernel->azureml-contrib-notebook~=1.32.0->azureml-sdk[notebooks]) (6.1)\n",
      "Requirement already satisfied: jupyter-client in c:\\users\\user\\anaconda3\\lib\\site-packages (from ipykernel->azureml-contrib-notebook~=1.32.0->azureml-sdk[notebooks]) (6.1.7)\n",
      "Requirement already satisfied: pickleshare in c:\\users\\user\\anaconda3\\lib\\site-packages (from ipython->azureml-contrib-notebook~=1.32.0->azureml-sdk[notebooks]) (0.7.5)\n",
      "Requirement already satisfied: pygments in c:\\users\\user\\anaconda3\\lib\\site-packages (from ipython->azureml-contrib-notebook~=1.32.0->azureml-sdk[notebooks]) (2.9.0)\n",
      "Requirement already satisfied: prompt-toolkit!=3.0.0,!=3.0.1,<3.1.0,>=2.0.0 in c:\\users\\user\\anaconda3\\lib\\site-packages (from ipython->azureml-contrib-notebook~=1.32.0->azureml-sdk[notebooks]) (3.0.17)\n",
      "Requirement already satisfied: backcall in c:\\users\\user\\anaconda3\\lib\\site-packages (from ipython->azureml-contrib-notebook~=1.32.0->azureml-sdk[notebooks]) (0.2.0)\n",
      "Requirement already satisfied: colorama in c:\\users\\user\\anaconda3\\lib\\site-packages (from ipython->azureml-contrib-notebook~=1.32.0->azureml-sdk[notebooks]) (0.4.4)\n",
      "Requirement already satisfied: setuptools>=18.5 in c:\\users\\user\\anaconda3\\lib\\site-packages (from ipython->azureml-contrib-notebook~=1.32.0->azureml-sdk[notebooks]) (52.0.0.post20210125)\n",
      "Requirement already satisfied: jedi>=0.16 in c:\\users\\user\\anaconda3\\lib\\site-packages (from ipython->azureml-contrib-notebook~=1.32.0->azureml-sdk[notebooks]) (0.17.1)\n",
      "Requirement already satisfied: decorator in c:\\users\\user\\anaconda3\\lib\\site-packages (from ipython->azureml-contrib-notebook~=1.32.0->azureml-sdk[notebooks]) (5.0.9)\n",
      "Requirement already satisfied: parso<0.8.0,>=0.7.0 in c:\\users\\user\\anaconda3\\lib\\site-packages (from jedi>=0.16->ipython->azureml-contrib-notebook~=1.32.0->azureml-sdk[notebooks]) (0.7.0)\n",
      "Requirement already satisfied: portalocker~=1.6 in c:\\users\\user\\anaconda3\\lib\\site-packages (from msal-extensions~=0.2.2->azure-identity<1.5.0,>=1.2.0->azureml-dataprep<2.19.0a,>=2.18.0a->azureml-dataset-runtime[fuse]~=1.32.0->azureml-sdk[notebooks]) (1.7.1)\n",
      "Requirement already satisfied: requests-oauthlib>=0.5.0 in c:\\users\\user\\anaconda3\\lib\\site-packages (from msrest<1.0.0,>=0.5.1->azureml-core~=1.32.0->azureml-sdk[notebooks]) (1.3.0)\n",
      "Requirement already satisfied: certifi>=2017.4.17 in c:\\users\\user\\anaconda3\\lib\\site-packages (from msrest<1.0.0,>=0.5.1->azureml-core~=1.32.0->azureml-sdk[notebooks]) (2021.5.30)\n",
      "Requirement already satisfied: isodate>=0.6.0 in c:\\users\\user\\anaconda3\\lib\\site-packages (from msrest<1.0.0,>=0.5.1->azureml-core~=1.32.0->azureml-sdk[notebooks]) (0.6.0)\n",
      "Requirement already satisfied: jupyter-core in c:\\users\\user\\anaconda3\\lib\\site-packages (from nbconvert<6->azureml-contrib-notebook~=1.32.0->azureml-sdk[notebooks]) (4.7.1)\n",
      "Requirement already satisfied: entrypoints>=0.2.2 in c:\\users\\user\\anaconda3\\lib\\site-packages (from nbconvert<6->azureml-contrib-notebook~=1.32.0->azureml-sdk[notebooks]) (0.3)\n",
      "Requirement already satisfied: pandocfilters>=1.4.1 in c:\\users\\user\\anaconda3\\lib\\site-packages (from nbconvert<6->azureml-contrib-notebook~=1.32.0->azureml-sdk[notebooks]) (1.4.3)\n",
      "Requirement already satisfied: testpath in c:\\users\\user\\anaconda3\\lib\\site-packages (from nbconvert<6->azureml-contrib-notebook~=1.32.0->azureml-sdk[notebooks]) (0.5.0)\n",
      "Requirement already satisfied: defusedxml in c:\\users\\user\\anaconda3\\lib\\site-packages (from nbconvert<6->azureml-contrib-notebook~=1.32.0->azureml-sdk[notebooks]) (0.7.1)\n",
      "Requirement already satisfied: jinja2>=2.4 in c:\\users\\user\\anaconda3\\lib\\site-packages (from nbconvert<6->azureml-contrib-notebook~=1.32.0->azureml-sdk[notebooks]) (3.0.1)\n",
      "Requirement already satisfied: mistune<2,>=0.8.1 in c:\\users\\user\\anaconda3\\lib\\site-packages (from nbconvert<6->azureml-contrib-notebook~=1.32.0->azureml-sdk[notebooks]) (0.8.4)\n",
      "Requirement already satisfied: bleach in c:\\users\\user\\anaconda3\\lib\\site-packages (from nbconvert<6->azureml-contrib-notebook~=1.32.0->azureml-sdk[notebooks]) (3.3.1)\n",
      "Requirement already satisfied: MarkupSafe>=2.0 in c:\\users\\user\\anaconda3\\lib\\site-packages (from jinja2>=2.4->nbconvert<6->azureml-contrib-notebook~=1.32.0->azureml-sdk[notebooks]) (2.0.1)\n",
      "Requirement already satisfied: jsonschema!=2.5.0,>=2.4 in c:\\users\\user\\anaconda3\\lib\\site-packages (from nbformat>=4.2.0->ipywidgets>=7.0.0->azureml-widgets~=1.32.0->azureml-sdk[notebooks]) (3.2.0)\n"
     ]
    },
    {
     "name": "stdout",
     "output_type": "stream",
     "text": [
      "Requirement already satisfied: ipython-genutils in c:\\users\\user\\anaconda3\\lib\\site-packages (from nbformat>=4.2.0->ipywidgets>=7.0.0->azureml-widgets~=1.32.0->azureml-sdk[notebooks]) (0.2.0)\n",
      "Requirement already satisfied: attrs>=17.4.0 in c:\\users\\user\\anaconda3\\lib\\site-packages (from jsonschema!=2.5.0,>=2.4->nbformat>=4.2.0->ipywidgets>=7.0.0->azureml-widgets~=1.32.0->azureml-sdk[notebooks]) (21.2.0)\n",
      "Requirement already satisfied: pyrsistent>=0.14.0 in c:\\users\\user\\anaconda3\\lib\\site-packages (from jsonschema!=2.5.0,>=2.4->nbformat>=4.2.0->ipywidgets>=7.0.0->azureml-widgets~=1.32.0->azureml-sdk[notebooks]) (0.17.3)\n",
      "Requirement already satisfied: pyasn1>=0.1.1 in c:\\users\\user\\anaconda3\\lib\\site-packages (from ndg-httpsclient<=0.5.1->azureml-core~=1.32.0->azureml-sdk[notebooks]) (0.4.8)\n",
      "Requirement already satisfied: tqdm>=4.32.2 in c:\\users\\user\\anaconda3\\lib\\site-packages (from papermill<2->azureml-contrib-notebook~=1.32.0->azureml-sdk[notebooks]) (4.61.2)\n",
      "Requirement already satisfied: pyyaml in c:\\users\\user\\anaconda3\\lib\\site-packages (from papermill<2->azureml-contrib-notebook~=1.32.0->azureml-sdk[notebooks]) (5.4.1)\n",
      "Requirement already satisfied: tenacity in c:\\users\\user\\anaconda3\\lib\\site-packages (from papermill<2->azureml-contrib-notebook~=1.32.0->azureml-sdk[notebooks]) (8.0.1)\n",
      "Requirement already satisfied: future in c:\\users\\user\\anaconda3\\lib\\site-packages (from papermill<2->azureml-contrib-notebook~=1.32.0->azureml-sdk[notebooks]) (0.18.2)\n",
      "Requirement already satisfied: ansiwrap in c:\\users\\user\\anaconda3\\lib\\site-packages (from papermill<2->azureml-contrib-notebook~=1.32.0->azureml-sdk[notebooks]) (0.8.4)\n",
      "Requirement already satisfied: click in c:\\users\\user\\anaconda3\\lib\\site-packages (from papermill<2->azureml-contrib-notebook~=1.32.0->azureml-sdk[notebooks]) (8.0.1)\n",
      "Requirement already satisfied: wcwidth in c:\\users\\user\\anaconda3\\lib\\site-packages (from prompt-toolkit!=3.0.0,!=3.0.1,<3.1.0,>=2.0.0->ipython->azureml-contrib-notebook~=1.32.0->azureml-sdk[notebooks]) (0.2.5)\n",
      "Requirement already satisfied: idna<3,>=2.5 in c:\\users\\user\\anaconda3\\lib\\site-packages (from requests<3.0.0,>=2.19.1->azureml-core~=1.32.0->azureml-sdk[notebooks]) (2.10)\n",
      "Requirement already satisfied: chardet<4,>=3.0.2 in c:\\users\\user\\anaconda3\\lib\\site-packages (from requests<3.0.0,>=2.19.1->azureml-core~=1.32.0->azureml-sdk[notebooks]) (3.0.4)\n",
      "Requirement already satisfied: oauthlib>=3.0.0 in c:\\users\\user\\anaconda3\\lib\\site-packages (from requests-oauthlib>=0.5.0->msrest<1.0.0,>=0.5.1->azureml-core~=1.32.0->azureml-sdk[notebooks]) (3.1.1)\n",
      "Collecting ruamel.yaml.clib>=0.1.2\n",
      "  Downloading ruamel.yaml.clib-0.2.6-cp38-cp38-win_amd64.whl (117 kB)\n",
      "Requirement already satisfied: jeepney>=0.6 in c:\\users\\user\\anaconda3\\lib\\site-packages (from SecretStorage<4.0.0->azureml-core~=1.32.0->azureml-sdk[notebooks]) (0.7.0)\n",
      "Requirement already satisfied: notebook>=4.4.1 in c:\\users\\user\\anaconda3\\lib\\site-packages (from widgetsnbextension~=3.5.0->ipywidgets>=7.0.0->azureml-widgets~=1.32.0->azureml-sdk[notebooks]) (6.1.4)\n",
      "Requirement already satisfied: prometheus-client in c:\\users\\user\\anaconda3\\lib\\site-packages (from notebook>=4.4.1->widgetsnbextension~=3.5.0->ipywidgets>=7.0.0->azureml-widgets~=1.32.0->azureml-sdk[notebooks]) (0.11.0)\n",
      "Requirement already satisfied: Send2Trash in c:\\users\\user\\anaconda3\\lib\\site-packages (from notebook>=4.4.1->widgetsnbextension~=3.5.0->ipywidgets>=7.0.0->azureml-widgets~=1.32.0->azureml-sdk[notebooks]) (1.5.0)\n",
      "Requirement already satisfied: argon2-cffi in c:\\users\\user\\anaconda3\\lib\\site-packages (from notebook>=4.4.1->widgetsnbextension~=3.5.0->ipywidgets>=7.0.0->azureml-widgets~=1.32.0->azureml-sdk[notebooks]) (20.1.0)\n",
      "Requirement already satisfied: terminado>=0.8.3 in c:\\users\\user\\anaconda3\\lib\\site-packages (from notebook>=4.4.1->widgetsnbextension~=3.5.0->ipywidgets>=7.0.0->azureml-widgets~=1.32.0->azureml-sdk[notebooks]) (0.9.1)\n",
      "Requirement already satisfied: pyzmq>=17 in c:\\users\\user\\anaconda3\\lib\\site-packages (from notebook>=4.4.1->widgetsnbextension~=3.5.0->ipywidgets>=7.0.0->azureml-widgets~=1.32.0->azureml-sdk[notebooks]) (20.0.0)\n",
      "Requirement already satisfied: pywinpty>=0.5 in c:\\users\\user\\anaconda3\\lib\\site-packages (from terminado>=0.8.3->notebook>=4.4.1->widgetsnbextension~=3.5.0->ipywidgets>=7.0.0->azureml-widgets~=1.32.0->azureml-sdk[notebooks]) (0.5.7)\n",
      "Requirement already satisfied: textwrap3>=0.9.2 in c:\\users\\user\\anaconda3\\lib\\site-packages (from ansiwrap->papermill<2->azureml-contrib-notebook~=1.32.0->azureml-sdk[notebooks]) (0.9.2)\n",
      "Requirement already satisfied: backports.weakref in c:\\users\\user\\anaconda3\\lib\\site-packages (from backports.tempfile->azureml-core~=1.32.0->azureml-sdk[notebooks]) (1.0.post1)\n",
      "Requirement already satisfied: packaging in c:\\users\\user\\anaconda3\\lib\\site-packages (from bleach->nbconvert<6->azureml-contrib-notebook~=1.32.0->azureml-sdk[notebooks]) (21.0)\n",
      "Requirement already satisfied: webencodings in c:\\users\\user\\anaconda3\\lib\\site-packages (from bleach->nbconvert<6->azureml-contrib-notebook~=1.32.0->azureml-sdk[notebooks]) (0.5.1)\n",
      "Requirement already satisfied: pyparsing>=2.0.2 in c:\\users\\user\\anaconda3\\lib\\site-packages (from packaging->bleach->nbconvert<6->azureml-contrib-notebook~=1.32.0->azureml-sdk[notebooks]) (2.4.7)\n",
      "Installing collected packages: ruamel.yaml.clib, ruamel.yaml\n",
      "Successfully installed ruamel.yaml-0.17.4 ruamel.yaml.clib-0.2.6\n"
     ]
    }
   ],
   "source": [
    "!pip install azureml-sdk[notebooks]"
   ]
  },
  {
   "cell_type": "markdown",
   "metadata": {},
   "source": [
    "# Creating a new workspacwee using SDK\n",
    "* Automatically creates a new workspace for us\n",
    "* Remeber when you run the script below, there will be authentication steps\n",
    "* Once workspace is created cpu, gpu ( compute target for training and predicting your models) will be made available"
   ]
  },
  {
   "cell_type": "code",
   "execution_count": 14,
   "metadata": {},
   "outputs": [
    {
     "name": "stdout",
     "output_type": "stream",
     "text": [
      "Deploying AppInsights with name myworkspinsightsa5341a0d.\n",
      "Deployed AppInsights with name myworkspinsightsa5341a0d. Took 3.46 seconds.\n",
      "Deploying StorageAccount with name myworkspstorage38226cbf1.\n",
      "Deploying KeyVault with name myworkspkeyvault5a4683eb.\n",
      "Deployed KeyVault with name myworkspkeyvault5a4683eb. Took 17.62 seconds.\n",
      "Deployed StorageAccount with name myworkspstorage38226cbf1. Took 20.48 seconds.\n",
      "Deploying Workspace with name myworkspace.\n",
      "Deployed Workspace with name myworkspace. Took 21.35 seconds.\n"
     ]
    }
   ],
   "source": [
    "from azureml.core import Workspace\n",
    "\n",
    "ws = Workspace.create(name='myworkspace',\n",
    "               subscription_id='ff711122-6294-4fad-9d1f-bf505a51fc42',\n",
    "               resource_group='mlproject',\n",
    "               create_resource_group=False,\n",
    "               location='westus2'\n",
    "               )"
   ]
  },
  {
   "cell_type": "code",
   "execution_count": 13,
   "metadata": {},
   "outputs": [],
   "source": [
    "# !pip install ruamel"
   ]
  },
  {
   "cell_type": "code",
   "execution_count": 32,
   "metadata": {},
   "outputs": [
    {
     "name": "stdout",
     "output_type": "stream",
     "text": [
      "Python 3.8.5\n"
     ]
    }
   ],
   "source": [
    "!python --version"
   ]
  },
  {
   "cell_type": "code",
   "execution_count": 16,
   "metadata": {},
   "outputs": [],
   "source": [
    "experiment=Experiment(workspace=ws,name=\"new_exp\")"
   ]
  },
  {
   "cell_type": "code",
   "execution_count": 30,
   "metadata": {},
   "outputs": [
    {
     "name": "stdout",
     "output_type": "stream",
     "text": [
      "Hello world\n"
     ]
    }
   ],
   "source": [
    "print(\"Hello world\")"
   ]
  },
  {
   "cell_type": "code",
   "execution_count": 31,
   "metadata": {},
   "outputs": [
    {
     "ename": "SnapshotException",
     "evalue": "SnapshotException:\n\tMessage: Failed to take a snapshot of .. Pass snapshot_directory=None to start_logging to skip taking a snapshot of the given directory.\n\tInnerException None\n\tErrorResponse \n{\n    \"error\": {\n        \"message\": \"Failed to take a snapshot of .. Pass snapshot_directory=None to start_logging to skip taking a snapshot of the given directory.\"\n    }\n}",
     "output_type": "error",
     "traceback": [
      "\u001b[1;31m---------------------------------------------------------------------------\u001b[0m",
      "\u001b[1;31mSnapshotException\u001b[0m                         Traceback (most recent call last)",
      "\u001b[1;32m~\\anaconda3\\lib\\site-packages\\azureml\\core\\run.py\u001b[0m in \u001b[0;36m_start_logging\u001b[1;34m(experiment, name, run_id, outputs, snapshot_directory, **kwargs)\u001b[0m\n\u001b[0;32m    591\u001b[0m             \u001b[1;32mtry\u001b[0m\u001b[1;33m:\u001b[0m\u001b[1;33m\u001b[0m\u001b[1;33m\u001b[0m\u001b[0m\n\u001b[1;32m--> 592\u001b[1;33m                 \u001b[0mrun\u001b[0m\u001b[1;33m.\u001b[0m\u001b[0mtake_snapshot\u001b[0m\u001b[1;33m(\u001b[0m\u001b[0msnapshot_directory\u001b[0m\u001b[1;33m)\u001b[0m\u001b[1;33m\u001b[0m\u001b[1;33m\u001b[0m\u001b[0m\n\u001b[0m\u001b[0;32m    593\u001b[0m             \u001b[1;32mexcept\u001b[0m \u001b[0mSnapshotException\u001b[0m \u001b[1;32mas\u001b[0m \u001b[0msnapshot_ex\u001b[0m\u001b[1;33m:\u001b[0m\u001b[1;33m\u001b[0m\u001b[1;33m\u001b[0m\u001b[0m\n",
      "\u001b[1;32m~\\anaconda3\\lib\\site-packages\\azureml\\core\\run.py\u001b[0m in \u001b[0;36mtake_snapshot\u001b[1;34m(self, file_or_folder_path)\u001b[0m\n\u001b[0;32m   2133\u001b[0m         \"\"\"\n\u001b[1;32m-> 2134\u001b[1;33m         \u001b[1;32mreturn\u001b[0m \u001b[0mself\u001b[0m\u001b[1;33m.\u001b[0m\u001b[0m_client\u001b[0m\u001b[1;33m.\u001b[0m\u001b[0mtake_snapshot\u001b[0m\u001b[1;33m(\u001b[0m\u001b[0mfile_or_folder_path\u001b[0m\u001b[1;33m)\u001b[0m\u001b[1;33m\u001b[0m\u001b[1;33m\u001b[0m\u001b[0m\n\u001b[0m\u001b[0;32m   2135\u001b[0m \u001b[1;33m\u001b[0m\u001b[0m\n",
      "\u001b[1;32m~\\anaconda3\\lib\\site-packages\\azureml\\_run_impl\\run_history_facade.py\u001b[0m in \u001b[0;36mtake_snapshot\u001b[1;34m(self, file_or_folder_path, _raise_on_validation_failure)\u001b[0m\n\u001b[0;32m    677\u001b[0m         \u001b[1;32mwith\u001b[0m \u001b[0mself\u001b[0m\u001b[1;33m.\u001b[0m\u001b[0m_log_context\u001b[0m\u001b[1;33m(\u001b[0m\u001b[1;34m\"TakingSnapshot\"\u001b[0m\u001b[1;33m)\u001b[0m \u001b[1;32mas\u001b[0m \u001b[0mslcx\u001b[0m\u001b[1;33m:\u001b[0m\u001b[1;33m\u001b[0m\u001b[1;33m\u001b[0m\u001b[0m\n\u001b[1;32m--> 678\u001b[1;33m             snapshot_id = self.snapshots.create_snapshot(\n\u001b[0m\u001b[0;32m    679\u001b[0m                 \u001b[0mfile_or_folder_path\u001b[0m\u001b[1;33m,\u001b[0m\u001b[1;33m\u001b[0m\u001b[1;33m\u001b[0m\u001b[0m\n",
      "\u001b[1;32m~\\anaconda3\\lib\\site-packages\\azureml\\_restclient\\snapshots_client.py\u001b[0m in \u001b[0;36mcreate_snapshot\u001b[1;34m(self, file_or_folder_path, retry_on_failure, raise_on_validation_failure)\u001b[0m\n\u001b[0;32m     85\u001b[0m \u001b[1;33m\u001b[0m\u001b[0m\n\u001b[1;32m---> 86\u001b[1;33m         \u001b[0mself\u001b[0m\u001b[1;33m.\u001b[0m\u001b[0m_validate_snapshot_size\u001b[0m\u001b[1;33m(\u001b[0m\u001b[0mfile_or_folder_path\u001b[0m\u001b[1;33m,\u001b[0m \u001b[0mexclude_function\u001b[0m\u001b[1;33m,\u001b[0m \u001b[0mraise_on_validation_failure\u001b[0m\u001b[1;33m)\u001b[0m\u001b[1;33m\u001b[0m\u001b[1;33m\u001b[0m\u001b[0m\n\u001b[0m\u001b[0;32m     87\u001b[0m \u001b[1;33m\u001b[0m\u001b[0m\n",
      "\u001b[1;32m~\\anaconda3\\lib\\site-packages\\azureml\\_restclient\\snapshots_client.py\u001b[0m in \u001b[0;36m_validate_snapshot_size\u001b[1;34m(self, file_or_folder_path, exclude_function, raise_on_validation_failure)\u001b[0m\n\u001b[0;32m     63\u001b[0m             \u001b[1;32mif\u001b[0m \u001b[0mraise_on_validation_failure\u001b[0m\u001b[1;33m:\u001b[0m\u001b[1;33m\u001b[0m\u001b[1;33m\u001b[0m\u001b[0m\n\u001b[1;32m---> 64\u001b[1;33m                 \u001b[1;32mraise\u001b[0m \u001b[0mSnapshotException\u001b[0m\u001b[1;33m(\u001b[0m\u001b[0merror_message\u001b[0m\u001b[1;33m)\u001b[0m\u001b[1;33m\u001b[0m\u001b[1;33m\u001b[0m\u001b[0m\n\u001b[0m\u001b[0;32m     65\u001b[0m             \u001b[1;32melse\u001b[0m\u001b[1;33m:\u001b[0m\u001b[1;33m\u001b[0m\u001b[1;33m\u001b[0m\u001b[0m\n",
      "\u001b[1;31mSnapshotException\u001b[0m: SnapshotException:\n\tMessage: ====================================================================\n\nWhile attempting to take snapshot of .\nYour total snapshot size exceeds the limit of 300.0 MB.\nPlease see http://aka.ms/aml-largefiles on how to work with large files.\n\n====================================================================\n\n\n\tInnerException None\n\tErrorResponse \n{\n    \"error\": {\n        \"message\": \"====================================================================\\n\\nWhile attempting to take snapshot of .\\nYour total snapshot size exceeds the limit of 300.0 MB.\\nPlease see http://aka.ms/aml-largefiles on how to work with large files.\\n\\n====================================================================\\n\\n\"\n    }\n}",
      "\nThe above exception was the direct cause of the following exception:\n",
      "\u001b[1;31mSnapshotException\u001b[0m                         Traceback (most recent call last)",
      "\u001b[1;32m<ipython-input-31-9211c607ec76>\u001b[0m in \u001b[0;36m<module>\u001b[1;34m\u001b[0m\n\u001b[1;32m----> 1\u001b[1;33m \u001b[0mrun\u001b[0m\u001b[1;33m=\u001b[0m\u001b[0mexperiment\u001b[0m\u001b[1;33m.\u001b[0m\u001b[0mstart_logging\u001b[0m\u001b[1;33m(\u001b[0m\u001b[1;33m)\u001b[0m\u001b[1;33m\u001b[0m\u001b[1;33m\u001b[0m\u001b[0m\n\u001b[0m",
      "\u001b[1;32m~\\anaconda3\\lib\\site-packages\\azureml\\core\\experiment.py\u001b[0m in \u001b[0;36mstart_logging\u001b[1;34m(self, *args, **kwargs)\u001b[0m\n\u001b[0;32m    259\u001b[0m         \"\"\"\n\u001b[0;32m    260\u001b[0m         \u001b[1;32mfrom\u001b[0m \u001b[0mazureml\u001b[0m\u001b[1;33m.\u001b[0m\u001b[0mcore\u001b[0m\u001b[1;33m.\u001b[0m\u001b[0mrun\u001b[0m \u001b[1;32mimport\u001b[0m \u001b[0mRun\u001b[0m\u001b[1;33m\u001b[0m\u001b[1;33m\u001b[0m\u001b[0m\n\u001b[1;32m--> 261\u001b[1;33m         \u001b[1;32mreturn\u001b[0m \u001b[0mRun\u001b[0m\u001b[1;33m.\u001b[0m\u001b[0m_start_logging\u001b[0m\u001b[1;33m(\u001b[0m\u001b[0mself\u001b[0m\u001b[1;33m,\u001b[0m \u001b[1;33m*\u001b[0m\u001b[0margs\u001b[0m\u001b[1;33m,\u001b[0m \u001b[0m_parent_logger\u001b[0m\u001b[1;33m=\u001b[0m\u001b[0mself\u001b[0m\u001b[1;33m.\u001b[0m\u001b[0m_logger\u001b[0m\u001b[1;33m,\u001b[0m \u001b[1;33m**\u001b[0m\u001b[0mkwargs\u001b[0m\u001b[1;33m)\u001b[0m\u001b[1;33m\u001b[0m\u001b[1;33m\u001b[0m\u001b[0m\n\u001b[0m\u001b[0;32m    262\u001b[0m \u001b[1;33m\u001b[0m\u001b[0m\n\u001b[0;32m    263\u001b[0m     \u001b[1;33m@\u001b[0m\u001b[0m_check_for_experiment_id\u001b[0m\u001b[1;33m\u001b[0m\u001b[1;33m\u001b[0m\u001b[0m\n",
      "\u001b[1;32m~\\anaconda3\\lib\\site-packages\\azureml\\core\\run.py\u001b[0m in \u001b[0;36m_start_logging\u001b[1;34m(experiment, name, run_id, outputs, snapshot_directory, **kwargs)\u001b[0m\n\u001b[0;32m    594\u001b[0m                 \u001b[0merror_msg\u001b[0m \u001b[1;33m=\u001b[0m \u001b[1;34m\"Failed to take a snapshot of {}. Pass snapshot_directory=None to start_logging \"\u001b[0m\u001b[0;31m \u001b[0m\u001b[0;31m\\\u001b[0m\u001b[1;33m\u001b[0m\u001b[1;33m\u001b[0m\u001b[0m\n\u001b[0;32m    595\u001b[0m                             \u001b[1;34m\"to skip taking a snapshot of the given directory.\"\u001b[0m\u001b[1;33m.\u001b[0m\u001b[0mformat\u001b[0m\u001b[1;33m(\u001b[0m\u001b[0msnapshot_directory\u001b[0m\u001b[1;33m)\u001b[0m\u001b[1;33m\u001b[0m\u001b[1;33m\u001b[0m\u001b[0m\n\u001b[1;32m--> 596\u001b[1;33m                 \u001b[0mraise_from\u001b[0m\u001b[1;33m(\u001b[0m\u001b[0mSnapshotException\u001b[0m\u001b[1;33m(\u001b[0m\u001b[0merror_msg\u001b[0m\u001b[1;33m)\u001b[0m\u001b[1;33m,\u001b[0m \u001b[0msnapshot_ex\u001b[0m\u001b[1;33m)\u001b[0m\u001b[1;33m\u001b[0m\u001b[1;33m\u001b[0m\u001b[0m\n\u001b[0m\u001b[0;32m    597\u001b[0m         \u001b[1;32mreturn\u001b[0m \u001b[0mrun\u001b[0m\u001b[1;33m\u001b[0m\u001b[1;33m\u001b[0m\u001b[0m\n\u001b[0;32m    598\u001b[0m \u001b[1;33m\u001b[0m\u001b[0m\n",
      "\u001b[1;32m~\\anaconda3\\lib\\site-packages\\six.py\u001b[0m in \u001b[0;36mraise_from\u001b[1;34m(value, from_value)\u001b[0m\n",
      "\u001b[1;31mSnapshotException\u001b[0m: SnapshotException:\n\tMessage: Failed to take a snapshot of .. Pass snapshot_directory=None to start_logging to skip taking a snapshot of the given directory.\n\tInnerException None\n\tErrorResponse \n{\n    \"error\": {\n        \"message\": \"Failed to take a snapshot of .. Pass snapshot_directory=None to start_logging to skip taking a snapshot of the given directory.\"\n    }\n}"
     ]
    }
   ],
   "source": [
    "run=experiment.start_logging()"
   ]
  },
  {
   "cell_type": "code",
   "execution_count": 33,
   "metadata": {},
   "outputs": [
    {
     "ename": "NameError",
     "evalue": "name 'run' is not defined",
     "output_type": "error",
     "traceback": [
      "\u001b[1;31m---------------------------------------------------------------------------\u001b[0m",
      "\u001b[1;31mNameError\u001b[0m                                 Traceback (most recent call last)",
      "\u001b[1;32m<ipython-input-33-06a732515c2a>\u001b[0m in \u001b[0;36m<module>\u001b[1;34m\u001b[0m\n\u001b[1;32m----> 1\u001b[1;33m \u001b[0mrun\u001b[0m\u001b[1;33m.\u001b[0m\u001b[0mcomplete\u001b[0m\u001b[1;33m(\u001b[0m\u001b[1;33m)\u001b[0m\u001b[1;33m\u001b[0m\u001b[1;33m\u001b[0m\u001b[0m\n\u001b[0m",
      "\u001b[1;31mNameError\u001b[0m: name 'run' is not defined"
     ]
    }
   ],
   "source": [
    "run.complete()"
   ]
  },
  {
   "cell_type": "code",
   "execution_count": null,
   "metadata": {},
   "outputs": [],
   "source": []
  }
 ],
 "metadata": {
  "kernelspec": {
   "display_name": "Python 3",
   "language": "python",
   "name": "python3"
  },
  "language_info": {
   "codemirror_mode": {
    "name": "ipython",
    "version": 3
   },
   "file_extension": ".py",
   "mimetype": "text/x-python",
   "name": "python",
   "nbconvert_exporter": "python",
   "pygments_lexer": "ipython3",
   "version": "3.8.5"
  }
 },
 "nbformat": 4,
 "nbformat_minor": 4
}
