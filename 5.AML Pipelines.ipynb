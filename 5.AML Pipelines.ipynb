{
 "cells": [
  {
   "cell_type": "code",
   "execution_count": 1,
   "metadata": {},
   "outputs": [
    {
     "name": "stdout",
     "output_type": "stream",
     "text": [
      "Requirement already satisfied: azureml-sdk[notebooks] in c:\\users\\user\\anaconda3\\lib\\site-packages (1.32.0)\n",
      "Requirement already satisfied: azureml-pipeline~=1.32.0 in c:\\users\\user\\anaconda3\\lib\\site-packages (from azureml-sdk[notebooks]) (1.32.0)\n",
      "Requirement already satisfied: azureml-dataset-runtime[fuse]~=1.32.0 in c:\\users\\user\\anaconda3\\lib\\site-packages (from azureml-sdk[notebooks]) (1.32.0)\n",
      "Requirement already satisfied: azureml-core~=1.32.0 in c:\\users\\user\\anaconda3\\lib\\site-packages (from azureml-sdk[notebooks]) (1.32.0)\n",
      "Requirement already satisfied: azureml-train-automl-client~=1.32.0 in c:\\users\\user\\anaconda3\\lib\\site-packages (from azureml-sdk[notebooks]) (1.32.0)\n",
      "Requirement already satisfied: azureml-train~=1.32.0 in c:\\users\\user\\anaconda3\\lib\\site-packages (from azureml-sdk[notebooks]) (1.32.0)\n",
      "Requirement already satisfied: azureml-contrib-notebook~=1.32.0 in c:\\users\\user\\anaconda3\\lib\\site-packages (from azureml-sdk[notebooks]) (1.32.0)\n",
      "Requirement already satisfied: azureml-widgets~=1.32.0 in c:\\users\\user\\anaconda3\\lib\\site-packages (from azureml-sdk[notebooks]) (1.32.0)\n",
      "Requirement already satisfied: azureml-pipeline-core~=1.32.0 in c:\\users\\user\\anaconda3\\lib\\site-packages (from azureml-contrib-notebook~=1.32.0->azureml-sdk[notebooks]) (1.32.0)\n",
      "Requirement already satisfied: papermill<2 in c:\\users\\user\\anaconda3\\lib\\site-packages (from azureml-contrib-notebook~=1.32.0->azureml-sdk[notebooks]) (1.2.1)\n",
      "Requirement already satisfied: ipython in c:\\users\\user\\anaconda3\\lib\\site-packages (from azureml-contrib-notebook~=1.32.0->azureml-sdk[notebooks]) (7.22.0)\n",
      "Requirement already satisfied: ipykernel in c:\\users\\user\\anaconda3\\lib\\site-packages (from azureml-contrib-notebook~=1.32.0->azureml-sdk[notebooks]) (5.3.4)\n",
      "Requirement already satisfied: nbconvert<6 in c:\\users\\user\\anaconda3\\lib\\site-packages (from azureml-contrib-notebook~=1.32.0->azureml-sdk[notebooks]) (5.6.1)\n",
      "Requirement already satisfied: jmespath<1.0.0 in c:\\users\\user\\anaconda3\\lib\\site-packages (from azureml-core~=1.32.0->azureml-sdk[notebooks]) (0.10.0)\n",
      "Requirement already satisfied: urllib3<=1.26.5,>=1.23 in c:\\users\\user\\anaconda3\\lib\\site-packages (from azureml-core~=1.32.0->azureml-sdk[notebooks]) (1.25.11)\n",
      "Requirement already satisfied: python-dateutil<3.0.0,>=2.7.3 in c:\\users\\user\\anaconda3\\lib\\site-packages (from azureml-core~=1.32.0->azureml-sdk[notebooks]) (2.8.2)\n",
      "Requirement already satisfied: azure-mgmt-authorization<1.0.0,>=0.40.0 in c:\\users\\user\\anaconda3\\lib\\site-packages (from azureml-core~=1.32.0->azureml-sdk[notebooks]) (0.61.0)\n",
      "Requirement already satisfied: azure-mgmt-keyvault<10.0.0,>=0.40.0 in c:\\users\\user\\anaconda3\\lib\\site-packages (from azureml-core~=1.32.0->azureml-sdk[notebooks]) (9.0.0)\n",
      "Requirement already satisfied: jsonpickle<3.0.0 in c:\\users\\user\\anaconda3\\lib\\site-packages (from azureml-core~=1.32.0->azureml-sdk[notebooks]) (2.0.0)\n",
      "Requirement already satisfied: pyopenssl<21.0.0 in c:\\users\\user\\anaconda3\\lib\\site-packages (from azureml-core~=1.32.0->azureml-sdk[notebooks]) (20.0.1)\n",
      "Requirement already satisfied: azure-common<2.0.0,>=1.1.12 in c:\\users\\user\\anaconda3\\lib\\site-packages (from azureml-core~=1.32.0->azureml-sdk[notebooks]) (1.1.27)\n",
      "Requirement already satisfied: azure-mgmt-containerregistry>=2.0.0 in c:\\users\\user\\anaconda3\\lib\\site-packages (from azureml-core~=1.32.0->azureml-sdk[notebooks]) (8.0.0)\n",
      "Requirement already satisfied: docker<5.0.0 in c:\\users\\user\\anaconda3\\lib\\site-packages (from azureml-core~=1.32.0->azureml-sdk[notebooks]) (4.4.4)\n",
      "Requirement already satisfied: ruamel.yaml<0.17.5,>=0.15.35 in c:\\users\\user\\anaconda3\\lib\\site-packages (from azureml-core~=1.32.0->azureml-sdk[notebooks]) (0.17.4)\n",
      "Requirement already satisfied: msrest<1.0.0,>=0.5.1 in c:\\users\\user\\anaconda3\\lib\\site-packages (from azureml-core~=1.32.0->azureml-sdk[notebooks]) (0.6.21)\n",
      "Requirement already satisfied: pathspec<1.0.0 in c:\\users\\user\\anaconda3\\lib\\site-packages (from azureml-core~=1.32.0->azureml-sdk[notebooks]) (0.8.1)\n",
      "Requirement already satisfied: PyJWT<3.0.0 in c:\\users\\user\\anaconda3\\lib\\site-packages (from azureml-core~=1.32.0->azureml-sdk[notebooks]) (2.1.0)\n",
      "Requirement already satisfied: contextlib2<1.0.0 in c:\\users\\user\\anaconda3\\lib\\site-packages (from azureml-core~=1.32.0->azureml-sdk[notebooks]) (0.6.0.post1)\n",
      "Requirement already satisfied: cryptography!=1.9,!=2.0.*,!=2.1.*,!=2.2.*,<4.0.0 in c:\\users\\user\\anaconda3\\lib\\site-packages (from azureml-core~=1.32.0->azureml-sdk[notebooks]) (3.4.7)\n",
      "Requirement already satisfied: pytz in c:\\users\\user\\anaconda3\\lib\\site-packages (from azureml-core~=1.32.0->azureml-sdk[notebooks]) (2021.1)\n",
      "Requirement already satisfied: backports.tempfile in c:\\users\\user\\anaconda3\\lib\\site-packages (from azureml-core~=1.32.0->azureml-sdk[notebooks]) (1.0)\n",
      "Requirement already satisfied: ndg-httpsclient<=0.5.1 in c:\\users\\user\\anaconda3\\lib\\site-packages (from azureml-core~=1.32.0->azureml-sdk[notebooks]) (0.5.1)\n",
      "Requirement already satisfied: adal<=1.2.7,>=1.2.0 in c:\\users\\user\\anaconda3\\lib\\site-packages (from azureml-core~=1.32.0->azureml-sdk[notebooks]) (1.2.7)\n",
      "Requirement already satisfied: msrestazure<=0.6.4,>=0.4.33 in c:\\users\\user\\anaconda3\\lib\\site-packages (from azureml-core~=1.32.0->azureml-sdk[notebooks]) (0.6.4)\n",
      "Requirement already satisfied: azure-mgmt-resource<15.0.0,>=1.2.1 in c:\\users\\user\\anaconda3\\lib\\site-packages (from azureml-core~=1.32.0->azureml-sdk[notebooks]) (13.0.0)\n",
      "Requirement already satisfied: SecretStorage<4.0.0 in c:\\users\\user\\anaconda3\\lib\\site-packages (from azureml-core~=1.32.0->azureml-sdk[notebooks]) (3.3.1)\n",
      "Requirement already satisfied: azure-graphrbac<1.0.0,>=0.40.0 in c:\\users\\user\\anaconda3\\lib\\site-packages (from azureml-core~=1.32.0->azureml-sdk[notebooks]) (0.61.1)\n",
      "Requirement already satisfied: requests<3.0.0,>=2.19.1 in c:\\users\\user\\anaconda3\\lib\\site-packages (from azureml-core~=1.32.0->azureml-sdk[notebooks]) (2.24.0)\n",
      "Requirement already satisfied: azure-mgmt-storage<16.0.0,>=1.5.0 in c:\\users\\user\\anaconda3\\lib\\site-packages (from azureml-core~=1.32.0->azureml-sdk[notebooks]) (11.2.0)\n",
      "Requirement already satisfied: azure-mgmt-core<2.0.0,>=1.2.0 in c:\\users\\user\\anaconda3\\lib\\site-packages (from azure-mgmt-containerregistry>=2.0.0->azureml-core~=1.32.0->azureml-sdk[notebooks]) (1.3.0)\n",
      "Requirement already satisfied: azure-core<2.0.0,>=1.15.0 in c:\\users\\user\\anaconda3\\lib\\site-packages (from azure-mgmt-core<2.0.0,>=1.2.0->azure-mgmt-containerregistry>=2.0.0->azureml-core~=1.32.0->azureml-sdk[notebooks]) (1.16.0)\n",
      "Requirement already satisfied: six>=1.11.0 in c:\\users\\user\\anaconda3\\lib\\site-packages (from azure-core<2.0.0,>=1.15.0->azure-mgmt-core<2.0.0,>=1.2.0->azure-mgmt-containerregistry>=2.0.0->azureml-core~=1.32.0->azureml-sdk[notebooks]) (1.16.0)\n",
      "Requirement already satisfied: numpy!=1.19.4 in c:\\users\\user\\anaconda3\\lib\\site-packages (from azureml-dataset-runtime[fuse]~=1.32.0->azureml-sdk[notebooks]) (1.19.0)\n",
      "Requirement already satisfied: pyarrow<4.0.0,>=0.17.0 in c:\\users\\user\\anaconda3\\lib\\site-packages (from azureml-dataset-runtime[fuse]~=1.32.0->azureml-sdk[notebooks]) (3.0.0)\n",
      "Requirement already satisfied: azureml-dataprep<2.19.0a,>=2.18.0a in c:\\users\\user\\anaconda3\\lib\\site-packages (from azureml-dataset-runtime[fuse]~=1.32.0->azureml-sdk[notebooks]) (2.18.0)\n",
      "Requirement already satisfied: fusepy<4.0.0,>=3.0.1 in c:\\users\\user\\anaconda3\\lib\\site-packages (from azureml-dataset-runtime[fuse]~=1.32.0->azureml-sdk[notebooks]) (3.0.1)\n",
      "Requirement already satisfied: azureml-dataprep-rslex<1.17.0a,>=1.16.0dev0 in c:\\users\\user\\anaconda3\\lib\\site-packages (from azureml-dataprep<2.19.0a,>=2.18.0a->azureml-dataset-runtime[fuse]~=1.32.0->azureml-sdk[notebooks]) (1.16.1)\n",
      "Requirement already satisfied: dotnetcore2<3.0.0,>=2.1.14 in c:\\users\\user\\anaconda3\\lib\\site-packages (from azureml-dataprep<2.19.0a,>=2.18.0a->azureml-dataset-runtime[fuse]~=1.32.0->azureml-sdk[notebooks]) (2.1.21)\n",
      "Requirement already satisfied: cloudpickle<2.0.0,>=1.1.0 in c:\\users\\user\\anaconda3\\lib\\site-packages (from azureml-dataprep<2.19.0a,>=2.18.0a->azureml-dataset-runtime[fuse]~=1.32.0->azureml-sdk[notebooks]) (1.6.0)\n",
      "Requirement already satisfied: azure-identity<1.5.0,>=1.2.0 in c:\\users\\user\\anaconda3\\lib\\site-packages (from azureml-dataprep<2.19.0a,>=2.18.0a->azureml-dataset-runtime[fuse]~=1.32.0->azureml-sdk[notebooks]) (1.4.1)\n",
      "Requirement already satisfied: azureml-dataprep-native<37.0.0,>=36.0.0 in c:\\users\\user\\anaconda3\\lib\\site-packages (from azureml-dataprep<2.19.0a,>=2.18.0a->azureml-dataset-runtime[fuse]~=1.32.0->azureml-sdk[notebooks]) (36.0.0)\n",
      "Requirement already satisfied: msal<2.0.0,>=1.3.0 in c:\\users\\user\\anaconda3\\lib\\site-packages (from azure-identity<1.5.0,>=1.2.0->azureml-dataprep<2.19.0a,>=2.18.0a->azureml-dataset-runtime[fuse]~=1.32.0->azureml-sdk[notebooks]) (1.12.0)\n",
      "Requirement already satisfied: msal-extensions~=0.2.2 in c:\\users\\user\\anaconda3\\lib\\site-packages (from azure-identity<1.5.0,>=1.2.0->azureml-dataprep<2.19.0a,>=2.18.0a->azureml-dataset-runtime[fuse]~=1.32.0->azureml-sdk[notebooks]) (0.2.2)\n",
      "Requirement already satisfied: azureml-pipeline-steps~=1.32.0 in c:\\users\\user\\anaconda3\\lib\\site-packages (from azureml-pipeline~=1.32.0->azureml-sdk[notebooks]) (1.32.0)\n",
      "Requirement already satisfied: azureml-train-core~=1.32.0 in c:\\users\\user\\anaconda3\\lib\\site-packages (from azureml-pipeline-steps~=1.32.0->azureml-pipeline~=1.32.0->azureml-sdk[notebooks]) (1.32.0)\n",
      "Requirement already satisfied: azureml-automl-core~=1.32.0 in c:\\users\\user\\anaconda3\\lib\\site-packages (from azureml-train-automl-client~=1.32.0->azureml-sdk[notebooks]) (1.32.0)\n",
      "Requirement already satisfied: azureml-telemetry~=1.32.0 in c:\\users\\user\\anaconda3\\lib\\site-packages (from azureml-train-automl-client~=1.32.0->azureml-sdk[notebooks]) (1.32.0)\n",
      "Requirement already satisfied: applicationinsights in c:\\users\\user\\anaconda3\\lib\\site-packages (from azureml-telemetry~=1.32.0->azureml-train-automl-client~=1.32.0->azureml-sdk[notebooks]) (0.11.10)\n",
      "Requirement already satisfied: azureml-train-restclients-hyperdrive~=1.32.0 in c:\\users\\user\\anaconda3\\lib\\site-packages (from azureml-train-core~=1.32.0->azureml-pipeline-steps~=1.32.0->azureml-pipeline~=1.32.0->azureml-sdk[notebooks]) (1.32.0)\n",
      "Requirement already satisfied: azure-storage-blob>=12.6.0 in c:\\users\\user\\anaconda3\\lib\\site-packages (from azureml-widgets~=1.32.0->azureml-sdk[notebooks]) (12.8.1)\n",
      "Requirement already satisfied: ipywidgets>=7.0.0 in c:\\users\\user\\anaconda3\\lib\\site-packages (from azureml-widgets~=1.32.0->azureml-sdk[notebooks]) (7.5.1)\n",
      "Requirement already satisfied: cffi>=1.12 in c:\\users\\user\\anaconda3\\lib\\site-packages (from cryptography!=1.9,!=2.0.*,!=2.1.*,!=2.2.*,<4.0.0->azureml-core~=1.32.0->azureml-sdk[notebooks]) (1.14.6)\n",
      "Requirement already satisfied: pycparser in c:\\users\\user\\anaconda3\\lib\\site-packages (from cffi>=1.12->cryptography!=1.9,!=2.0.*,!=2.1.*,!=2.2.*,<4.0.0->azureml-core~=1.32.0->azureml-sdk[notebooks]) (2.20)\n",
      "Requirement already satisfied: websocket-client>=0.32.0 in c:\\users\\user\\anaconda3\\lib\\site-packages (from docker<5.0.0->azureml-core~=1.32.0->azureml-sdk[notebooks]) (1.1.0)\n",
      "Requirement already satisfied: pywin32==227 in c:\\users\\user\\anaconda3\\lib\\site-packages (from docker<5.0.0->azureml-core~=1.32.0->azureml-sdk[notebooks]) (227)\n",
      "Requirement already satisfied: distro>=1.2.0 in c:\\users\\user\\anaconda3\\lib\\site-packages (from dotnetcore2<3.0.0,>=2.1.14->azureml-dataprep<2.19.0a,>=2.18.0a->azureml-dataset-runtime[fuse]~=1.32.0->azureml-sdk[notebooks]) (1.5.0)\n",
      "Requirement already satisfied: widgetsnbextension~=3.5.0 in c:\\users\\user\\anaconda3\\lib\\site-packages (from ipywidgets>=7.0.0->azureml-widgets~=1.32.0->azureml-sdk[notebooks]) (3.5.1)\n",
      "Requirement already satisfied: traitlets>=4.3.1 in c:\\users\\user\\anaconda3\\lib\\site-packages (from ipywidgets>=7.0.0->azureml-widgets~=1.32.0->azureml-sdk[notebooks]) (5.0.5)\n",
      "Requirement already satisfied: nbformat>=4.2.0 in c:\\users\\user\\anaconda3\\lib\\site-packages (from ipywidgets>=7.0.0->azureml-widgets~=1.32.0->azureml-sdk[notebooks]) (5.1.3)\n",
      "Requirement already satisfied: jupyter-client in c:\\users\\user\\anaconda3\\lib\\site-packages (from ipykernel->azureml-contrib-notebook~=1.32.0->azureml-sdk[notebooks]) (6.1.7)\n",
      "Requirement already satisfied: tornado>=4.2 in c:\\users\\user\\anaconda3\\lib\\site-packages (from ipykernel->azureml-contrib-notebook~=1.32.0->azureml-sdk[notebooks]) (6.1)\n",
      "Requirement already satisfied: colorama in c:\\users\\user\\anaconda3\\lib\\site-packages (from ipython->azureml-contrib-notebook~=1.32.0->azureml-sdk[notebooks]) (0.4.4)\n",
      "Requirement already satisfied: setuptools>=18.5 in c:\\users\\user\\anaconda3\\lib\\site-packages (from ipython->azureml-contrib-notebook~=1.32.0->azureml-sdk[notebooks]) (52.0.0.post20210125)\n",
      "Requirement already satisfied: pickleshare in c:\\users\\user\\anaconda3\\lib\\site-packages (from ipython->azureml-contrib-notebook~=1.32.0->azureml-sdk[notebooks]) (0.7.5)\n",
      "Requirement already satisfied: jedi>=0.16 in c:\\users\\user\\anaconda3\\lib\\site-packages (from ipython->azureml-contrib-notebook~=1.32.0->azureml-sdk[notebooks]) (0.17.1)\n",
      "Requirement already satisfied: decorator in c:\\users\\user\\anaconda3\\lib\\site-packages (from ipython->azureml-contrib-notebook~=1.32.0->azureml-sdk[notebooks]) (5.0.9)\n",
      "Requirement already satisfied: pygments in c:\\users\\user\\anaconda3\\lib\\site-packages (from ipython->azureml-contrib-notebook~=1.32.0->azureml-sdk[notebooks]) (2.9.0)\n",
      "Requirement already satisfied: backcall in c:\\users\\user\\anaconda3\\lib\\site-packages (from ipython->azureml-contrib-notebook~=1.32.0->azureml-sdk[notebooks]) (0.2.0)\n",
      "Requirement already satisfied: prompt-toolkit!=3.0.0,!=3.0.1,<3.1.0,>=2.0.0 in c:\\users\\user\\anaconda3\\lib\\site-packages (from ipython->azureml-contrib-notebook~=1.32.0->azureml-sdk[notebooks]) (3.0.17)\n",
      "Requirement already satisfied: parso<0.8.0,>=0.7.0 in c:\\users\\user\\anaconda3\\lib\\site-packages (from jedi>=0.16->ipython->azureml-contrib-notebook~=1.32.0->azureml-sdk[notebooks]) (0.7.0)\n",
      "Requirement already satisfied: portalocker~=1.6 in c:\\users\\user\\anaconda3\\lib\\site-packages (from msal-extensions~=0.2.2->azure-identity<1.5.0,>=1.2.0->azureml-dataprep<2.19.0a,>=2.18.0a->azureml-dataset-runtime[fuse]~=1.32.0->azureml-sdk[notebooks]) (1.7.1)\n",
      "Requirement already satisfied: isodate>=0.6.0 in c:\\users\\user\\anaconda3\\lib\\site-packages (from msrest<1.0.0,>=0.5.1->azureml-core~=1.32.0->azureml-sdk[notebooks]) (0.6.0)\n",
      "Requirement already satisfied: certifi>=2017.4.17 in c:\\users\\user\\anaconda3\\lib\\site-packages (from msrest<1.0.0,>=0.5.1->azureml-core~=1.32.0->azureml-sdk[notebooks]) (2021.5.30)\n",
      "Requirement already satisfied: requests-oauthlib>=0.5.0 in c:\\users\\user\\anaconda3\\lib\\site-packages (from msrest<1.0.0,>=0.5.1->azureml-core~=1.32.0->azureml-sdk[notebooks]) (1.3.0)\n",
      "Requirement already satisfied: testpath in c:\\users\\user\\anaconda3\\lib\\site-packages (from nbconvert<6->azureml-contrib-notebook~=1.32.0->azureml-sdk[notebooks]) (0.5.0)\n",
      "Requirement already satisfied: defusedxml in c:\\users\\user\\anaconda3\\lib\\site-packages (from nbconvert<6->azureml-contrib-notebook~=1.32.0->azureml-sdk[notebooks]) (0.7.1)\n",
      "Requirement already satisfied: bleach in c:\\users\\user\\anaconda3\\lib\\site-packages (from nbconvert<6->azureml-contrib-notebook~=1.32.0->azureml-sdk[notebooks]) (3.3.1)\n",
      "Requirement already satisfied: pandocfilters>=1.4.1 in c:\\users\\user\\anaconda3\\lib\\site-packages (from nbconvert<6->azureml-contrib-notebook~=1.32.0->azureml-sdk[notebooks]) (1.4.3)\n",
      "Requirement already satisfied: entrypoints>=0.2.2 in c:\\users\\user\\anaconda3\\lib\\site-packages (from nbconvert<6->azureml-contrib-notebook~=1.32.0->azureml-sdk[notebooks]) (0.3)\n",
      "Requirement already satisfied: mistune<2,>=0.8.1 in c:\\users\\user\\anaconda3\\lib\\site-packages (from nbconvert<6->azureml-contrib-notebook~=1.32.0->azureml-sdk[notebooks]) (0.8.4)\n",
      "Requirement already satisfied: jupyter-core in c:\\users\\user\\anaconda3\\lib\\site-packages (from nbconvert<6->azureml-contrib-notebook~=1.32.0->azureml-sdk[notebooks]) (4.7.1)\n",
      "Requirement already satisfied: jinja2>=2.4 in c:\\users\\user\\anaconda3\\lib\\site-packages (from nbconvert<6->azureml-contrib-notebook~=1.32.0->azureml-sdk[notebooks]) (3.0.1)\n",
      "Requirement already satisfied: MarkupSafe>=2.0 in c:\\users\\user\\anaconda3\\lib\\site-packages (from jinja2>=2.4->nbconvert<6->azureml-contrib-notebook~=1.32.0->azureml-sdk[notebooks]) (2.0.1)\n",
      "Requirement already satisfied: jsonschema!=2.5.0,>=2.4 in c:\\users\\user\\anaconda3\\lib\\site-packages (from nbformat>=4.2.0->ipywidgets>=7.0.0->azureml-widgets~=1.32.0->azureml-sdk[notebooks]) (3.2.0)\n",
      "Requirement already satisfied: ipython-genutils in c:\\users\\user\\anaconda3\\lib\\site-packages (from nbformat>=4.2.0->ipywidgets>=7.0.0->azureml-widgets~=1.32.0->azureml-sdk[notebooks]) (0.2.0)\n",
      "Requirement already satisfied: attrs>=17.4.0 in c:\\users\\user\\anaconda3\\lib\\site-packages (from jsonschema!=2.5.0,>=2.4->nbformat>=4.2.0->ipywidgets>=7.0.0->azureml-widgets~=1.32.0->azureml-sdk[notebooks]) (21.2.0)\n",
      "Requirement already satisfied: pyrsistent>=0.14.0 in c:\\users\\user\\anaconda3\\lib\\site-packages (from jsonschema!=2.5.0,>=2.4->nbformat>=4.2.0->ipywidgets>=7.0.0->azureml-widgets~=1.32.0->azureml-sdk[notebooks]) (0.17.3)\n",
      "Requirement already satisfied: pyasn1>=0.1.1 in c:\\users\\user\\anaconda3\\lib\\site-packages (from ndg-httpsclient<=0.5.1->azureml-core~=1.32.0->azureml-sdk[notebooks]) (0.4.8)\n",
      "Requirement already satisfied: future in c:\\users\\user\\anaconda3\\lib\\site-packages (from papermill<2->azureml-contrib-notebook~=1.32.0->azureml-sdk[notebooks]) (0.18.2)\n",
      "Requirement already satisfied: tqdm>=4.32.2 in c:\\users\\user\\anaconda3\\lib\\site-packages (from papermill<2->azureml-contrib-notebook~=1.32.0->azureml-sdk[notebooks]) (4.61.2)\n",
      "Requirement already satisfied: ansiwrap in c:\\users\\user\\anaconda3\\lib\\site-packages (from papermill<2->azureml-contrib-notebook~=1.32.0->azureml-sdk[notebooks]) (0.8.4)\n",
      "Requirement already satisfied: tenacity in c:\\users\\user\\anaconda3\\lib\\site-packages (from papermill<2->azureml-contrib-notebook~=1.32.0->azureml-sdk[notebooks]) (8.0.1)\n",
      "Requirement already satisfied: pyyaml in c:\\users\\user\\anaconda3\\lib\\site-packages (from papermill<2->azureml-contrib-notebook~=1.32.0->azureml-sdk[notebooks]) (5.4.1)\n",
      "Requirement already satisfied: click in c:\\users\\user\\anaconda3\\lib\\site-packages (from papermill<2->azureml-contrib-notebook~=1.32.0->azureml-sdk[notebooks]) (8.0.1)\n",
      "Requirement already satisfied: wcwidth in c:\\users\\user\\anaconda3\\lib\\site-packages (from prompt-toolkit!=3.0.0,!=3.0.1,<3.1.0,>=2.0.0->ipython->azureml-contrib-notebook~=1.32.0->azureml-sdk[notebooks]) (0.2.5)\n",
      "Requirement already satisfied: idna<3,>=2.5 in c:\\users\\user\\anaconda3\\lib\\site-packages (from requests<3.0.0,>=2.19.1->azureml-core~=1.32.0->azureml-sdk[notebooks]) (2.10)\n",
      "Requirement already satisfied: chardet<4,>=3.0.2 in c:\\users\\user\\anaconda3\\lib\\site-packages (from requests<3.0.0,>=2.19.1->azureml-core~=1.32.0->azureml-sdk[notebooks]) (3.0.4)\n",
      "Requirement already satisfied: oauthlib>=3.0.0 in c:\\users\\user\\anaconda3\\lib\\site-packages (from requests-oauthlib>=0.5.0->msrest<1.0.0,>=0.5.1->azureml-core~=1.32.0->azureml-sdk[notebooks]) (3.1.1)\n",
      "Requirement already satisfied: ruamel.yaml.clib>=0.1.2 in c:\\users\\user\\anaconda3\\lib\\site-packages (from ruamel.yaml<0.17.5,>=0.15.35->azureml-core~=1.32.0->azureml-sdk[notebooks]) (0.2.6)\n",
      "Requirement already satisfied: jeepney>=0.6 in c:\\users\\user\\anaconda3\\lib\\site-packages (from SecretStorage<4.0.0->azureml-core~=1.32.0->azureml-sdk[notebooks]) (0.7.0)\n",
      "Requirement already satisfied: notebook>=4.4.1 in c:\\users\\user\\anaconda3\\lib\\site-packages (from widgetsnbextension~=3.5.0->ipywidgets>=7.0.0->azureml-widgets~=1.32.0->azureml-sdk[notebooks]) (6.1.4)\n",
      "Requirement already satisfied: argon2-cffi in c:\\users\\user\\anaconda3\\lib\\site-packages (from notebook>=4.4.1->widgetsnbextension~=3.5.0->ipywidgets>=7.0.0->azureml-widgets~=1.32.0->azureml-sdk[notebooks]) (20.1.0)\n",
      "Requirement already satisfied: terminado>=0.8.3 in c:\\users\\user\\anaconda3\\lib\\site-packages (from notebook>=4.4.1->widgetsnbextension~=3.5.0->ipywidgets>=7.0.0->azureml-widgets~=1.32.0->azureml-sdk[notebooks]) (0.9.1)\n",
      "Requirement already satisfied: prometheus-client in c:\\users\\user\\anaconda3\\lib\\site-packages (from notebook>=4.4.1->widgetsnbextension~=3.5.0->ipywidgets>=7.0.0->azureml-widgets~=1.32.0->azureml-sdk[notebooks]) (0.11.0)\n",
      "Requirement already satisfied: pyzmq>=17 in c:\\users\\user\\anaconda3\\lib\\site-packages (from notebook>=4.4.1->widgetsnbextension~=3.5.0->ipywidgets>=7.0.0->azureml-widgets~=1.32.0->azureml-sdk[notebooks]) (20.0.0)\n",
      "Requirement already satisfied: Send2Trash in c:\\users\\user\\anaconda3\\lib\\site-packages (from notebook>=4.4.1->widgetsnbextension~=3.5.0->ipywidgets>=7.0.0->azureml-widgets~=1.32.0->azureml-sdk[notebooks]) (1.5.0)\n",
      "Requirement already satisfied: pywinpty>=0.5 in c:\\users\\user\\anaconda3\\lib\\site-packages (from terminado>=0.8.3->notebook>=4.4.1->widgetsnbextension~=3.5.0->ipywidgets>=7.0.0->azureml-widgets~=1.32.0->azureml-sdk[notebooks]) (0.5.7)\n",
      "Requirement already satisfied: textwrap3>=0.9.2 in c:\\users\\user\\anaconda3\\lib\\site-packages (from ansiwrap->papermill<2->azureml-contrib-notebook~=1.32.0->azureml-sdk[notebooks]) (0.9.2)\n",
      "Requirement already satisfied: backports.weakref in c:\\users\\user\\anaconda3\\lib\\site-packages (from backports.tempfile->azureml-core~=1.32.0->azureml-sdk[notebooks]) (1.0.post1)\n",
      "Requirement already satisfied: webencodings in c:\\users\\user\\anaconda3\\lib\\site-packages (from bleach->nbconvert<6->azureml-contrib-notebook~=1.32.0->azureml-sdk[notebooks]) (0.5.1)\n",
      "Requirement already satisfied: packaging in c:\\users\\user\\anaconda3\\lib\\site-packages (from bleach->nbconvert<6->azureml-contrib-notebook~=1.32.0->azureml-sdk[notebooks]) (21.0)\n",
      "Requirement already satisfied: pyparsing>=2.0.2 in c:\\users\\user\\anaconda3\\lib\\site-packages (from packaging->bleach->nbconvert<6->azureml-contrib-notebook~=1.32.0->azureml-sdk[notebooks]) (2.4.7)\n"
     ]
    }
   ],
   "source": [
    "!pip install azureml-sdk[notebooks]"
   ]
  },
  {
   "cell_type": "code",
   "execution_count": 2,
   "metadata": {},
   "outputs": [],
   "source": [
    "from azureml.core import Workspace\n",
    "ws = Workspace.get(\"myworkspace\", subscription_id='ff711122-6294-4fad-9d1f-bf505a51fc42',\n",
    "               resource_group='mlproject',\n",
    "               location='westus2')\n"
   ]
  },
  {
   "cell_type": "markdown",
   "metadata": {},
   "source": [
    "# 2. Create a reference to the Azure ML Datastore\n",
    "A datastore is an AML-specific component that abstracts away the Azure resource the data is stored on. It allows for cross-subscription or cross-resource group data access on Azure (useful in enterprise context). The main advantage is that takes care of authentication for you (after initial setup, minimal key management is required).\n",
    "You don’t necessarily need it. If you don’t, be ready to pollute your code with authentication/authorization snippets. More code = more liability!"
   ]
  },
  {
   "cell_type": "code",
   "execution_count": 4,
   "metadata": {},
   "outputs": [
    {
     "name": "stdout",
     "output_type": "stream",
     "text": [
      "{\n",
      "  \"name\": \"workspaceblobstore\",\n",
      "  \"container_name\": \"azureml-blobstore-4251d2dc-9aa6-4571-a78d-2baff407acbf\",\n",
      "  \"account_name\": \"myworkspstorage32cc8b3bb\",\n",
      "  \"protocol\": \"https\",\n",
      "  \"endpoint\": \"core.windows.net\"\n",
      "}\n"
     ]
    }
   ],
   "source": [
    "from azureml.core import Dataset\n",
    "default_ds = ws.get_default_datastore()\n",
    "print(default_ds)"
   ]
  },
  {
   "cell_type": "code",
   "execution_count": 5,
   "metadata": {},
   "outputs": [],
   "source": [
    "from azureml.core.datastore import Datastore\n",
    "datastore = Datastore.get(\n",
    "    workspace=ws, \n",
    "    datastore_name=\"workspaceblobstore\"\n",
    ")"
   ]
  },
  {
   "cell_type": "code",
   "execution_count": 6,
   "metadata": {},
   "outputs": [
    {
     "name": "stdout",
     "output_type": "stream",
     "text": [
      "{\n",
      "  \"name\": \"workspaceblobstore\",\n",
      "  \"container_name\": \"azureml-blobstore-4251d2dc-9aa6-4571-a78d-2baff407acbf\",\n",
      "  \"account_name\": \"myworkspstorage32cc8b3bb\",\n",
      "  \"protocol\": \"https\",\n",
      "  \"endpoint\": \"core.windows.net\"\n",
      "}\n"
     ]
    }
   ],
   "source": [
    "print(datastore)"
   ]
  },
  {
   "cell_type": "code",
   "execution_count": 9,
   "metadata": {},
   "outputs": [],
   "source": [
    "def dataupload(filename):\n",
    "    if 'diabetes dataset' not in ws.datasets:\n",
    "        default_ds.upload_files(files=[filename], # Upload the diabetes csv files in /data\n",
    "                            target_path='diabetes-data/', # Put it in a folder path in the datastore\n",
    "                            overwrite=True, # Replace existing files of the same name\n",
    "                            show_progress=True)\n",
    "\n",
    "    #Create a tabular dataset from the path on the datastore (this may take a short while)\n",
    "        tab_data_set = Dataset.Tabular.from_delimited_files(path=(default_ds, 'diabetes-data/*.csv'))\n",
    "\n",
    "    # Register the tabular dataset\n",
    "        try:\n",
    "            tab_data_set = tab_data_set.register(workspace=ws, \n",
    "                                    name='diabetes dataset',\n",
    "                                    description='diabetes data',\n",
    "                                    tags = {'format':'CSV'},\n",
    "                                    create_new_version=True)\n",
    "            print('Dataset registered.')\n",
    "        except Exception as ex:\n",
    "            print(ex)\n",
    "    else:\n",
    "        print('Dataset already registered.')"
   ]
  },
  {
   "cell_type": "code",
   "execution_count": 10,
   "metadata": {},
   "outputs": [
    {
     "name": "stdout",
     "output_type": "stream",
     "text": [
      "Dataset already registered.\n"
     ]
    }
   ],
   "source": [
    "dataupload('C:/Users/User/Desktop/Data/diabetes2.csv')"
   ]
  },
  {
   "cell_type": "code",
   "execution_count": 11,
   "metadata": {},
   "outputs": [
    {
     "name": "stdout",
     "output_type": "stream",
     "text": [
      "Dataset already registered.\n"
     ]
    }
   ],
   "source": [
    "dataupload('C:/Users/User/Desktop/Data/diabetes.csv')"
   ]
  },
  {
   "cell_type": "code",
   "execution_count": null,
   "metadata": {},
   "outputs": [],
   "source": []
  }
 ],
 "metadata": {
  "kernelspec": {
   "display_name": "Python 3",
   "language": "python",
   "name": "python3"
  },
  "language_info": {
   "codemirror_mode": {
    "name": "ipython",
    "version": 3
   },
   "file_extension": ".py",
   "mimetype": "text/x-python",
   "name": "python",
   "nbconvert_exporter": "python",
   "pygments_lexer": "ipython3",
   "version": "3.8.5"
  }
 },
 "nbformat": 4,
 "nbformat_minor": 4
}
